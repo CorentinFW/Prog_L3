{
 "cells": [
  {
   "cell_type": "markdown",
   "metadata": {
    "deletable": false,
    "editable": false,
    "run_control": {
     "frozen": true
    }
   },
   "source": [
    "# TP Calcul de racines"
   ]
  },
  {
   "cell_type": "markdown",
   "metadata": {
    "deletable": false,
    "editable": false,
    "run_control": {
     "frozen": true
    }
   },
   "source": [
    "Durant ce TP, nous nous intéressons aux méthodes numériques pour déterminer les zéros de fonctions."
   ]
  },
  {
   "cell_type": "markdown",
   "metadata": {
    "deletable": false,
    "editable": false,
    "run_control": {
     "frozen": true
    }
   },
   "source": [
    "## Recherche de minimum"
   ]
  },
  {
   "cell_type": "markdown",
   "metadata": {
    "deletable": false,
    "editable": false,
    "run_control": {
     "frozen": true
    }
   },
   "source": [
    "L'une des applications de l'obtention des zéros est la détermination d'extremums locaux. Dans cette partie, nous nous intéresserons seulement aux minimums. Un minimum local d'une fonction $f$ correspond à un $x_{min}$ tel que il existe un intervale $I=]a,b[$ tel que $\\forall x \\in I, f(x)\\geq f(x_{min})$."
   ]
  },
  {
   "cell_type": "markdown",
   "metadata": {
    "deletable": false,
    "editable": false,
    "run_control": {
     "frozen": true
    }
   },
   "source": [
    "### Question\n",
    "1. Afficher le graphique de la fonction $f(x)=2x^6-12x^5+15x^4+20x^3-36x^2+4$ et trouver un intervalle qui permette de voir tous ses minimums locaux. *Vous pourrez utiliser la fonction d'interaction vue au TP1* `@interact`.\n",
    "1. Afficher à la fois le graphe de $f$ et de sa dérivée. Vérifiez que la derivée de $f$ s'annule toujours dans un minimum local de $f$.\n",
    "1. Trouver au moins un point $x_0$ qui n'est pas un minimum local et qui pourtant verifie $f'(x_0)=0$. Que peut t-on dire sur ce point ?"
   ]
  },
  {
   "cell_type": "code",
   "execution_count": 0,
   "metadata": {},
   "outputs": [],
   "source": []
  },
  {
   "cell_type": "code",
   "execution_count": 0,
   "metadata": {},
   "outputs": [],
   "source": []
  },
  {
   "cell_type": "code",
   "execution_count": 0,
   "metadata": {},
   "outputs": [],
   "source": []
  },
  {
   "cell_type": "markdown",
   "metadata": {
    "deletable": false,
    "editable": false,
    "run_control": {
     "frozen": true
    }
   },
   "source": [
    "### Question"
   ]
  },
  {
   "cell_type": "markdown",
   "metadata": {
    "deletable": false,
    "editable": false,
    "run_control": {
     "frozen": true
    }
   },
   "source": [
    "Tout extremum local d'une fonction dérivable $f$ correspond à une racine de sa dérivée. Nous allons utiliser cette propriété pour déterminer  les minimums de f."
   ]
  },
  {
   "cell_type": "markdown",
   "metadata": {
    "deletable": false,
    "editable": false,
    "run_control": {
     "frozen": true
    }
   },
   "source": [
    "1. En utilisant la méthode `find_root` sur des intervalles adaptés (que vous trouverez à la main) calculer chacune des racines de $f'$ qui correspond à un minimum de $f$.\n",
    "1. Evaluer $f$ et $f'$ en ces points. Vous devrez constater que `find_root` est une méthode de calcul numérique approchée.\n",
    "1. Trouver d'autres intervalles de recherches de telles sorte que les évaluations de $f$ diffèrent. "
   ]
  },
  {
   "cell_type": "code",
   "execution_count": 0,
   "metadata": {
    "scrolled": true
   },
   "outputs": [],
   "source": []
  },
  {
   "cell_type": "code",
   "execution_count": 0,
   "metadata": {
    "scrolled": true
   },
   "outputs": [],
   "source": []
  },
  {
   "cell_type": "code",
   "execution_count": 0,
   "metadata": {},
   "outputs": [],
   "source": []
  },
  {
   "cell_type": "code",
   "execution_count": 0,
   "metadata": {},
   "outputs": [],
   "source": []
  },
  {
   "cell_type": "markdown",
   "metadata": {
    "deletable": false,
    "editable": false,
    "run_control": {
     "frozen": true
    }
   },
   "source": [
    "La méthode `find_root`renvoie une approximation numérique d'une racine de la fonction comprise dans l'intervalle donné en paramètres. Ainsi il peut y avoir une marge d'erreur $\\epsilon$ entre la véritable racine $r$ et la valeur $\\overline{r}= r +\\epsilon$ renvoyée par la méthode. Cette erreur se propage ensuite dans les calculs réalisés à partir de $\\overline{r}$."
   ]
  },
  {
   "cell_type": "markdown",
   "metadata": {
    "deletable": false,
    "editable": false,
    "run_control": {
     "frozen": true
    }
   },
   "source": [
    "Une autre approche consiste à passer par le calcul symbolique pour trouver les racines. La méthode `roots` cherche à calculer toutes les racines de manière exacte dans l'anneau symbolique `SR`. Cependant cette méthode peut échouer à calculer certaines racines. "
   ]
  },
  {
   "cell_type": "markdown",
   "metadata": {
    "deletable": false,
    "editable": false,
    "run_control": {
     "frozen": true
    }
   },
   "source": [
    "### Question\n",
    "1. Tester la méthode `roots` pour calculer les racines de la fonction $h(x)=x^4 + x^3 + x + 1$.\n",
    "1. En utilisant la méthode `roots`, calculer les racines de $f'$ pour la fonction $f$ de la question précédente.\n",
    "1. S'agit-il à chaque fois d'un minimum local de $f$ ? Sont-ils tous présents ? *Vous afficherez sur un graphique la fonction ainsi que les points correspondants aux racines trouvées*. \n",
    "1. Écrire une fonction qui calcule les minimums locaux d'une fonction polynomiale lorsque la méthode `roots` trouve bien toutes les racines de sa dérivée. **Rappel:** une fonction polynomiale de degrès $d$ a exactement $d$ racines (potentiellement dans la cloture algébrique). Pour récupérer l'erreur potentielle de la méthode `roots`, vous pourrez utiliser les exceptions python:\n",
    "```python:\n",
    "try :\n",
    "      ... # code qui appelle roots     \n",
    "except RuntimeError :\n",
    "      raise ValueError(\"message d'erreur\")  \n",
    "    \n",
    "1. Écrire une fonction qui affiche une fonction polynomiale et tous ses minimums locaux. \n",
    "1. Vérifier que vos fonctions sont correctes en utilisant la fonction $f$ de la question précédente."
   ]
  },
  {
   "cell_type": "code",
   "execution_count": 0,
   "metadata": {},
   "outputs": [],
   "source": []
  },
  {
   "cell_type": "code",
   "execution_count": 0,
   "metadata": {},
   "outputs": [],
   "source": []
  },
  {
   "cell_type": "code",
   "execution_count": 0,
   "metadata": {},
   "outputs": [],
   "source": []
  },
  {
   "cell_type": "code",
   "execution_count": 0,
   "metadata": {},
   "outputs": [],
   "source": []
  },
  {
   "cell_type": "code",
   "execution_count": 0,
   "metadata": {},
   "outputs": [],
   "source": []
  },
  {
   "cell_type": "code",
   "execution_count": 0,
   "metadata": {},
   "outputs": [],
   "source": []
  },
  {
   "cell_type": "code",
   "execution_count": 0,
   "metadata": {},
   "outputs": [],
   "source": []
  },
  {
   "cell_type": "markdown",
   "metadata": {
    "deletable": false,
    "editable": false,
    "run_control": {
     "frozen": true
    }
   },
   "source": [
    "### Question\n",
    "1. Tester aussi vos fonctions sur sur les fonctions polynomiales suivantes :\n",
    "\n",
    "    -$f_1(x)=15x^6 - 51x^5 - 60x^4 + 185x^3 + 60x^2 - 90x-17$\n",
    "    \n",
    "    -$f_2(x)=3x^5 - \\frac{45}{8}x^4 + \\frac{25}{2}x^3 - \\frac{45}{2}x^2 + 15x+42$\n",
    "    \n",
    "    -$f_3(x)=-5x^6 - 42x^5 - 15x^4 + 640x^3 + 1440x^2 -32$\n",
    "    \n",
    "    -$f_4(x)=-x^7 + \\frac{1}{3}x^6 - \\frac{7}{5}x^5 + \\frac{1}{2}x^4 - \\frac{7}{3}x^3 - \\frac{5}{2}x^2 + 2x$\n",
    "1. Utiliser l'affichage des fonctions pour vérifier vos réponses et adapter votre programme si besoin. *La méthode `factor` appliquée à la dérivée peut aider à comprendre ce qu'il se passe.*\n"
   ]
  },
  {
   "cell_type": "code",
   "execution_count": 0,
   "metadata": {},
   "outputs": [],
   "source": []
  },
  {
   "cell_type": "code",
   "execution_count": 0,
   "metadata": {},
   "outputs": [],
   "source": []
  },
  {
   "cell_type": "code",
   "execution_count": 0,
   "metadata": {},
   "outputs": [],
   "source": []
  },
  {
   "cell_type": "code",
   "execution_count": 0,
   "metadata": {},
   "outputs": [],
   "source": []
  },
  {
   "cell_type": "code",
   "execution_count": 0,
   "metadata": {},
   "outputs": [],
   "source": []
  },
  {
   "cell_type": "code",
   "execution_count": 0,
   "metadata": {},
   "outputs": [],
   "source": []
  },
  {
   "cell_type": "code",
   "execution_count": 0,
   "metadata": {},
   "outputs": [],
   "source": []
  },
  {
   "cell_type": "code",
   "execution_count": 0,
   "metadata": {},
   "outputs": [],
   "source": []
  },
  {
   "cell_type": "markdown",
   "metadata": {
    "deletable": false,
    "editable": false,
    "run_control": {
     "frozen": true
    }
   },
   "source": [
    "Dans la suite du TP, nous allons voir des méthodes pour calculer une approximation numérique $\\overline{r}$ d'une racine $r$ d'une fonction à une précision voulue en réglant la taille possible de l'erreur $\\epsilon$ telle que $\\overline{r}=r + \\epsilon$."
   ]
  },
  {
   "cell_type": "markdown",
   "metadata": {
    "deletable": false,
    "editable": false,
    "run_control": {
     "frozen": true
    }
   },
   "source": [
    "## Dichotomie\n",
    "\n",
    "Cette méthode considère une fonction continue $f$ et un intervalle $[a,b]$ tel que $f(a)$ et $f(b)$ sont de signes différents ($f(a)\\times f(b)<0$). Comme $f$ est continue, il existe forcément un point $x\\in[a,b]$ tel que $f(x)=0$.\n",
    "A chaque étape la méthode divise l'intervalle de recherche par $2$ en choisissant le sous-intervalle contenant la racine (signes des évaluations des extrémités différents). \n",
    "\n",
    "Quand l'intervalle est plus petit que la précision voulue tout point de cet intervalle est alors une bonne approximation de la racine. La méthode devra s'arrêter avant si l'une des deux extrémités de l'intervalle est la racine."
   ]
  },
  {
   "cell_type": "markdown",
   "metadata": {
    "deletable": false,
    "editable": false,
    "run_control": {
     "frozen": true
    }
   },
   "source": [
    "### Question\n",
    " Ecrire un algorithme récursif `dicho_roots` qui prend en entrée une fonction continue $f$, les extrémités d'un intervalle de recherche $[a,b]$ et une précision $p<1$ et qui calcule par dichotomie une approximation numérique d'une racine de $f$ dans l'intervalle $[a,b]$ à la précision $p$. \n",
    "\n",
    "**Rappel:** si $p=0,01$ cela signifie que l'on veut que la racine soit correcte jusqu'au deuxième chiffre après la virgules. Autrement dit, on cherche un intervalle $[\\alpha, \\beta] \\subset [a,b]$ tel que $|\\beta-\\alpha|\\leq p$. \n",
    "\n",
    "**Attention**, pour que la méthode `dicho_roots` fonctionne, il faut que les calculs se fassent dans la précision désirée (on utilisera donc un `RealField` adéquat, qui a une précision en bit de $1+\\log_2(1/p)$).\n",
    "\n",
    "1. Utiliser votre algorithme pour calculer une approximation numérique des racines  des fonctions $f'$ et $h$ définies dans la partie précédente. *Vous utiliserez l'affichage des fonctions pour définir les intervalles de recherche de départ et vous prendrez une précision de calcul des float (soit $2^{-23}$)*\n",
    "1. Modifier votre algorithme pour qu'il renvoie aussi le nombre d'étapes (c'est à dire le nombre d'intervalles de recherches différents utilisés).\n",
    "1. Trouver un réel $a$ et un paramètre de précision $p$ permettant d'avoir des résultats plus précis avec la méthode `dicho_roots` qu'avec la méthode `find_root` sur les intervalles $[a+i,a+i+1], \\forall i \\in \\{0,1,2,3,4\\}$. "
   ]
  },
  {
   "cell_type": "code",
   "execution_count": 0,
   "metadata": {},
   "outputs": [],
   "source": []
  },
  {
   "cell_type": "code",
   "execution_count": 0,
   "metadata": {},
   "outputs": [],
   "source": []
  },
  {
   "cell_type": "code",
   "execution_count": 0,
   "metadata": {},
   "outputs": [],
   "source": []
  },
  {
   "cell_type": "code",
   "execution_count": 0,
   "metadata": {},
   "outputs": [],
   "source": []
  },
  {
   "cell_type": "markdown",
   "metadata": {
    "deletable": false,
    "editable": false,
    "run_control": {
     "frozen": true
    }
   },
   "source": [
    "## Fausse position\n",
    "\n",
    "Pour cette méthode plutôt que de diviser systématiquement l'intervalle $[a,b]$ en deux, on utilise les valeurs de la fonction $f$ pour couper l'intervalle. En particulier, on coupe l'intervalle en un point $m$ qui est à l'intersection de l'axe des abscisses et de la droite qui passe par les point $(a,f(a))$ et $(b,f(b))$\n",
    "\n",
    "La même règle des signes permet de déterminer dans quel intervalle ($[a,m]$ ou $[m,b]$) se trouve une racine."
   ]
  },
  {
   "cell_type": "markdown",
   "metadata": {
    "deletable": false,
    "editable": false,
    "run_control": {
     "frozen": true
    }
   },
   "source": [
    "### Question\n",
    "1. Sachant qu'une droite est une fonction de la forme $d(x)=\\alpha x + \\beta$. Donner une fonction qui calcule la droite passant par des points $p_1=(x_1,y_1)$ et $p_2=(x_2,y_2)$.\n",
    "1. Pour $a=-0.8$, $b=0.8$ et la fonction $f'$ calculer la droite $d$ passant par $(a,f'(a))$ et $(b,f'(b))$.\n",
    "1. Déterminer le point $m$ où la droite $d(x)$ vaut $0$ et calculer $f'(m)$. Grâce à la règle des signes déterminer dans quel sous-intervalle de $[a,m]$ ou $[m,b]$ se trouve une une racine de $f'$.\n",
    "1. Représenter graphiquement ces différentes étapes (la fonction sur $[a,b]$, la droite, le point $m$, $f'(m)$ et le nouvel intervalle). *Utiliser des couleurs pour faciliter la lecture des graphiques.*\n",
    "1. Réduiser une fois de plus l'intervalle et compléter le graphique."
   ]
  },
  {
   "cell_type": "code",
   "execution_count": 0,
   "metadata": {},
   "outputs": [],
   "source": []
  },
  {
   "cell_type": "code",
   "execution_count": 0,
   "metadata": {},
   "outputs": [],
   "source": []
  },
  {
   "cell_type": "code",
   "execution_count": 0,
   "metadata": {},
   "outputs": [],
   "source": []
  },
  {
   "cell_type": "code",
   "execution_count": 0,
   "metadata": {},
   "outputs": [],
   "source": []
  },
  {
   "cell_type": "code",
   "execution_count": 0,
   "metadata": {},
   "outputs": [],
   "source": []
  },
  {
   "cell_type": "code",
   "execution_count": 0,
   "metadata": {},
   "outputs": [],
   "source": []
  },
  {
   "cell_type": "code",
   "execution_count": 0,
   "metadata": {},
   "outputs": [],
   "source": []
  },
  {
   "cell_type": "markdown",
   "metadata": {
    "deletable": false,
    "editable": false,
    "run_control": {
     "frozen": true
    }
   },
   "source": [
    "###  Question\n",
    "1. Ecrire un algorithme récursif `fausse_position_roots` qui prend en entrée une fonction continue $f$, les extrémités d'un intervalle $[a,b]$ de recherche et une précision $p$ et qui calcule par la fausse position une approximation numérique d'une racine de $f$ dans $[a,b]$ à la précision $p$.\n",
    "1. Utiliser votre algorithme pour calculer une approximation numérique des racines  des fonctions $f'$ et $h$.\n",
    "1. Modifier votre algorithme pour qu'il renvoie aussi le nombre d'intervalles de recherches différents utilisés.\n",
    "1. Comparer le nombre d'étapes des deux méthodes dichotomie et fausse position en cherchant sur le même intervalle $[a+i,a+i+1], \\forall i \\in \\{0,1,2,3,4\\}$ avec $a=-1.3$ et la même précision $p=2^{-20}$. Refaite le calcul avec $a= -1.00000001$. À votre avis quelle est la meilleure méthode."
   ]
  },
  {
   "cell_type": "code",
   "execution_count": 0,
   "metadata": {},
   "outputs": [],
   "source": []
  },
  {
   "cell_type": "code",
   "execution_count": 0,
   "metadata": {},
   "outputs": [],
   "source": []
  },
  {
   "cell_type": "code",
   "execution_count": 0,
   "metadata": {},
   "outputs": [],
   "source": []
  },
  {
   "cell_type": "code",
   "execution_count": 0,
   "metadata": {},
   "outputs": [],
   "source": []
  },
  {
   "cell_type": "code",
   "execution_count": 0,
   "metadata": {},
   "outputs": [],
   "source": []
  },
  {
   "cell_type": "markdown",
   "metadata": {
    "deletable": false,
    "editable": false,
    "run_control": {
     "frozen": true
    }
   },
   "source": [
    "## Méthode de Newton\n",
    "Dans la méthode de la fausse position la fonction est approchée par une droite passant par les deux points aux extrémités de l'intervalle.\n",
    "Dans la méthode de Newton, la fonction est approchée par sa tangente.\n",
    "Cependant, cette fois-ci la progression ne se fait pas d'intervalle en intervalle mais de point en point. Autrement dit, on va partir d'une approximation très grossière de notre racine et on va l'affiner au fur et à mesure des étapes. En partant d'un point $a$, le point suivant est donné par le zéro de la tangente en $a$. Quand l'écart entre deux points consécutifs est inférieur à la précision, on peut renvoyer le dernier point calculé."
   ]
  },
  {
   "cell_type": "markdown",
   "metadata": {
    "deletable": false,
    "editable": false,
    "run_control": {
     "frozen": true
    }
   },
   "source": [
    "### Question\n",
    "1. Ecrire une fonction calculant la tangente à une fonction $g$ en un point $a$. *Il s'agit de la droite passant par le point $(a,g(a))$ et de pente $g'(a)$.* \n",
    ">Vous vérifierez votre code pour la fonction $x\\mapsto x^2-2x+8$ dont la tangente en $x=3$ correspond à la fonction $x \\mapsto 4x-1$\n",
    "1. Pour la fonction $h$, avec $a=-1.2$, calculer la tangente $T_a(x)$ à $h(x)$ en $a$ et représenter sur un même graphique $h(x)$ et $T_a(x)$.\n",
    "1. Trouver le point $x_a$ tel que $T_a(x_a)=0$ et calculer la tangente à $h(x)$ en ce point $x_a$. Compléter le graphique. *Le zéro peut aussi être calculer directement sans calculer la tangente*\n",
    "1. Reproduire cette étape jusqu'à avoir visuellement l'impression qu'une tangente et la courbe ont le même zéro."
   ]
  },
  {
   "cell_type": "code",
   "execution_count": 0,
   "metadata": {},
   "outputs": [],
   "source": []
  },
  {
   "cell_type": "code",
   "execution_count": 0,
   "metadata": {},
   "outputs": [],
   "source": []
  },
  {
   "cell_type": "code",
   "execution_count": 0,
   "metadata": {},
   "outputs": [],
   "source": []
  },
  {
   "cell_type": "code",
   "execution_count": 0,
   "metadata": {},
   "outputs": [],
   "source": []
  },
  {
   "cell_type": "code",
   "execution_count": 0,
   "metadata": {},
   "outputs": [],
   "source": []
  },
  {
   "cell_type": "code",
   "execution_count": 0,
   "metadata": {},
   "outputs": [],
   "source": []
  },
  {
   "cell_type": "markdown",
   "metadata": {
    "deletable": false,
    "editable": false,
    "run_control": {
     "frozen": true
    }
   },
   "source": [
    "### Question\n",
    "1. Ecrire un algorithme qui applique la méthode de Newton pour renvoyer une racine d'une fonction dérivable $f$. Votre algorithme prendra en entrée la fonction $f$ ainsi qu'un point de départ $a$ (proche d'une racine) et une précision $p$.\n",
    "1. Utiliser votre algorithme sur les fonctions $f'$ et $h$ avec différents points de départ pour trouver toutes leurs racines.\n",
    "1. Ajouter un compteur permettant de connaitre le nombre de points calculés. Comparer cette méthode avec les deux précédentes sur la fonction $h$ en prenant comme départ $a=-1.2$ et $b=0$. Laquelle arrive à une précision donnée le plus rapidement?"
   ]
  },
  {
   "cell_type": "code",
   "execution_count": 0,
   "metadata": {},
   "outputs": [],
   "source": []
  },
  {
   "cell_type": "code",
   "execution_count": 0,
   "metadata": {},
   "outputs": [],
   "source": []
  },
  {
   "cell_type": "code",
   "execution_count": 0,
   "metadata": {},
   "outputs": [],
   "source": []
  },
  {
   "cell_type": "code",
   "execution_count": 0,
   "metadata": {},
   "outputs": [],
   "source": []
  },
  {
   "cell_type": "code",
   "execution_count": 0,
   "metadata": {},
   "outputs": [],
   "source": []
  },
  {
   "cell_type": "code",
   "execution_count": 0,
   "metadata": {},
   "outputs": [],
   "source": []
  }
 ],
 "metadata": {
  "kernelspec": {
   "display_name": "SageMath 9.3",
   "language": "sage",
   "name": "sagemath"
  },
  "language_info": {
   "codemirror_mode": {
    "name": "ipython",
    "version": 3
   },
   "file_extension": ".py",
   "mimetype": "text/x-python",
   "name": "python",
   "nbconvert_exporter": "python",
   "pygments_lexer": "ipython3",
   "version": "3.7.10"
  },
  "toc": {
   "base_numbering": 1,
   "nav_menu": {},
   "number_sections": true,
   "sideBar": true,
   "skip_h1_title": true,
   "title_cell": "Table of Contents",
   "title_sidebar": "Contents",
   "toc_cell": false,
   "toc_position": {
    "height": "calc(100% - 180px)",
    "left": "10px",
    "top": "150px",
    "width": "176.197922px"
   },
   "toc_section_display": true,
   "toc_window_display": true
  },
  "varInspector": {
   "cols": {
    "lenName": 16,
    "lenType": 16,
    "lenVar": 40
   },
   "kernels_config": {
    "python": {
     "delete_cmd_postfix": "",
     "delete_cmd_prefix": "del ",
     "library": "var_list.py",
     "varRefreshCmd": "print(var_dic_list())"
    },
    "r": {
     "delete_cmd_postfix": ") ",
     "delete_cmd_prefix": "rm(",
     "library": "var_list.r",
     "varRefreshCmd": "cat(var_dic_list()) "
    }
   },
   "types_to_exclude": [
    "module",
    "function",
    "builtin_function_or_method",
    "instance",
    "_Feature"
   ],
   "window_display": false
  }
 },
 "nbformat": 4,
 "nbformat_minor": 2
}
