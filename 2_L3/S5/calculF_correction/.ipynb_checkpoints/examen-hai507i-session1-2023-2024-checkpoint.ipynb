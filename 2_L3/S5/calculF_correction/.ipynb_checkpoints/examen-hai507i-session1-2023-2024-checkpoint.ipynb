{
 "cells": [
  {
   "cell_type": "code",
   "execution_count": null,
   "id": "e14879f7",
   "metadata": {},
   "outputs": [],
   "source": []
  },
  {
   "cell_type": "code",
   "execution_count": null,
   "id": "429569f6",
   "metadata": {
    "tags": [
     "identification"
    ]
   },
   "outputs": [],
   "source": [
    "#NOM : RODRIGUES \n",
    "#Prénom:RYAN \n",
    "#Numéro étudiant: 22107209\n",
    "#Nom Machine FDS:"
   ]
  },
  {
   "cell_type": "markdown",
   "id": "1ff58fd0",
   "metadata": {},
   "source": [
    "MERCI DE RESPECTER LES CONSIGNES ET LES NOMS DES VARIABLES DANS TOUS LES EXERCICES.\n",
    "\n",
    "DES POINTS SERONT PERDUS SINON !!!"
   ]
  },
  {
   "cell_type": "markdown",
   "id": "a8b52a3c",
   "metadata": {},
   "source": [
    "# Suite récurrente\n",
    "\n",
    "Toutes les fonctions que vous devrez utiliser dans cette partie ont déjà été vues et utilisées dans vos TPs.\n",
    "\n",
    "\n",
    "Soit la fonction $f(n)= (\\frac{4}{3})^n + (\\frac{1}{5})^n + (2)^n$.\n",
    "On cherche à trouver une suite récurrente $U_n$ telle que  $U_n=f(n)$ pour tout $n\\geq 0$."
   ]
  },
  {
   "cell_type": "markdown",
   "id": "a2024313",
   "metadata": {},
   "source": [
    "\n",
    "\n",
    "## Question 1.1\n",
    "Définir la fonction f(n) et la liste ``Fvalue``=$[f(0),f(1),\\dots,f(6)]$. Vous afficherez la liste ``Fvalue``."
   ]
  },
  {
   "cell_type": "code",
   "execution_count": null,
   "id": "0f2702e9",
   "metadata": {
    "deletable": false,
    "editable": false
   },
   "outputs": [],
   "source": [
    "q11=0 # NE PAS MODIFIER !!!"
   ]
  },
  {
   "cell_type": "code",
   "execution_count": 1,
   "id": "82bb83e9",
   "metadata": {
    "deletable": false
   },
   "outputs": [
    {
     "data": {
      "text/html": [
       "<html><script type=\"math/tex; mode=display\">\\newcommand{\\Bold}[1]{\\mathbf{#1}}\\left[3, \\frac{53}{15}, \\frac{1309}{225}, \\frac{35027}{3375}, \\frac{970081}{50625}, \\frac{27500243}{759375}, \\frac{793000729}{11390625}\\right]</script></html>"
      ],
      "text/latex": [
       "$$\\newcommand{\\Bold}[1]{\\mathbf{#1}}\\left[3, \\frac{53}{15}, \\frac{1309}{225}, \\frac{35027}{3375}, \\frac{970081}{50625}, \\frac{27500243}{759375}, \\frac{793000729}{11390625}\\right]$$"
      ],
      "text/plain": [
       "[3,\n",
       " 53/15,\n",
       " 1309/225,\n",
       " 35027/3375,\n",
       " 970081/50625,\n",
       " 27500243/759375,\n",
       " 793000729/11390625]"
      ]
     },
     "metadata": {},
     "output_type": "display_data"
    }
   ],
   "source": [
    "# Reponse 1.1 (1) \n",
    "\n",
    "f(n)=(4/3)^n + (1/5)^n + (2)^n\n",
    "Fvalue=[f(n) for n in range(7)]\n",
    "show(Fvalue)"
   ]
  },
  {
   "cell_type": "code",
   "execution_count": 2,
   "id": "7ff2f653",
   "metadata": {},
   "outputs": [
    {
     "name": "stdout",
     "output_type": "stream",
     "text": [
      "Object `suite` not found.\n"
     ]
    }
   ],
   "source": []
  },
  {
   "cell_type": "code",
   "execution_count": null,
   "id": "943f000f",
   "metadata": {},
   "outputs": [],
   "source": []
  },
  {
   "cell_type": "markdown",
   "id": "fad6e083",
   "metadata": {},
   "source": [
    "\n",
    "## Question 1.2\n",
    "\n",
    "À partir de la liste ``Fvalue``, montrer que la suite $U_n$ ne pas être une suite géométrique, i.e. $U_n \\neq \\alpha U_{n-1}$. Vous devrez écrire un code qui fait le test et affiche vrai ou faux. L'affichage d'un ensemble de valeurs ne sera pas suffisant. "
   ]
  },
  {
   "cell_type": "code",
   "execution_count": null,
   "id": "4fda4e17",
   "metadata": {
    "deletable": false,
    "editable": false
   },
   "outputs": [],
   "source": [
    "q12=0 # NE PAS MODIFIER !!!"
   ]
  },
  {
   "cell_type": "code",
   "execution_count": null,
   "id": "753e55fb",
   "metadata": {},
   "outputs": [],
   "source": [
    "# Reponse 1.2 (1) "
   ]
  },
  {
   "cell_type": "code",
   "execution_count": 25,
   "id": "db3e8661",
   "metadata": {},
   "outputs": [
    {
     "data": {
      "text/html": [
       "<html><script type=\"math/tex; mode=display\">\\newcommand{\\Bold}[1]{\\mathbf{#1}}\\left[3, \\frac{53}{15}, \\frac{2809}{675}, \\frac{148877}{30375}, \\frac{7890481}{1366875}, \\frac{418195493}{61509375}, \\frac{22164361129}{2767921875}\\right]</script></html>"
      ],
      "text/latex": [
       "$$\\newcommand{\\Bold}[1]{\\mathbf{#1}}\\left[3, \\frac{53}{15}, \\frac{2809}{675}, \\frac{148877}{30375}, \\frac{7890481}{1366875}, \\frac{418195493}{61509375}, \\frac{22164361129}{2767921875}\\right]$$"
      ],
      "text/plain": [
       "[3,\n",
       " 53/15,\n",
       " 2809/675,\n",
       " 148877/30375,\n",
       " 7890481/1366875,\n",
       " 418195493/61509375,\n",
       " 22164361129/2767921875]"
      ]
     },
     "metadata": {},
     "output_type": "display_data"
    },
    {
     "data": {
      "text/html": [
       "<html><script type=\"math/tex; mode=display\">\\newcommand{\\Bold}[1]{\\mathbf{#1}}\\left[3, \\frac{53}{15}, \\frac{1309}{225}, \\frac{35027}{3375}, \\frac{970081}{50625}, \\frac{27500243}{759375}, \\frac{793000729}{11390625}\\right]</script></html>"
      ],
      "text/latex": [
       "$$\\newcommand{\\Bold}[1]{\\mathbf{#1}}\\left[3, \\frac{53}{15}, \\frac{1309}{225}, \\frac{35027}{3375}, \\frac{970081}{50625}, \\frac{27500243}{759375}, \\frac{793000729}{11390625}\\right]$$"
      ],
      "text/plain": [
       "[3,\n",
       " 53/15,\n",
       " 1309/225,\n",
       " 35027/3375,\n",
       " 970081/50625,\n",
       " 27500243/759375,\n",
       " 793000729/11390625]"
      ]
     },
     "metadata": {},
     "output_type": "display_data"
    }
   ],
   "source": [
    "var('a')\n",
    "res=[3]\n",
    "\n",
    "eq = 53/15 ==a*3\n",
    "alpha=solve(eq,a)[0].rhs()\n",
    "for i in range(1,7):\n",
    "    res.append(alpha*res[i-1])\n",
    "    \n",
    "show(res)\n",
    "show(Fvalue)\n"
   ]
  },
  {
   "cell_type": "code",
   "execution_count": 26,
   "id": "aa6d00c0",
   "metadata": {},
   "outputs": [
    {
     "data": {
      "text/plain": [
       "False"
      ]
     },
     "execution_count": 26,
     "metadata": {},
     "output_type": "execute_result"
    }
   ],
   "source": [
    "res == Fvalue"
   ]
  },
  {
   "cell_type": "markdown",
   "id": "2ae1cc25",
   "metadata": {},
   "source": [
    "## Question 1.3 \n",
    "\n",
    "On fait l'hypothèse que la suite $U_n$ est définie uniquement à partir des deux termes précédents $U_{n-1}$ et $U_{n-2}$. Autrement dit on a $U_n= a U_{n-1}+b U_{n-2}$ avec $U_0=f(0)$ et $U_1=f(1)$. En définissant $a$ et $b$ comme des variables symboliques, calculer les 7 premiers termes de la suite (vous avez le droit de réutiliser des codes de vos TPs). Vous stockerez ces termes dans la liste ``Uvalue``. Les termes de cette suite devront **obligatoirement** être sous forme simplifiée: $\\sum_{i,j} \\alpha_{i,j} a^ib^j$."
   ]
  },
  {
   "cell_type": "code",
   "execution_count": null,
   "id": "74fc0c88",
   "metadata": {
    "deletable": false,
    "editable": false
   },
   "outputs": [],
   "source": [
    "q13=0 # NE PAS MODIFIER !!!"
   ]
  },
  {
   "cell_type": "code",
   "execution_count": null,
   "id": "868aa2e4",
   "metadata": {},
   "outputs": [],
   "source": [
    "# Reponse 1.3 (1) "
   ]
  },
  {
   "cell_type": "code",
   "execution_count": 29,
   "id": "119568c8",
   "metadata": {},
   "outputs": [
    {
     "data": {
      "text/html": [
       "<html><script type=\"math/tex; mode=display\">\\newcommand{\\Bold}[1]{\\mathbf{#1}}\\left[3, \\frac{53}{15}, \\frac{53}{15} \\, a + 3 \\, b, \\frac{53}{15} \\, a^{2} + 3 \\, a b + \\frac{53}{15} \\, b, \\frac{53}{15} \\, a^{3} + 3 \\, a^{2} b + \\frac{106}{15} \\, a b + 3 \\, b^{2}, \\frac{53}{15} \\, a^{4} + 3 \\, a^{3} b + \\frac{53}{5} \\, a^{2} b + 6 \\, a b^{2} + \\frac{53}{15} \\, b^{2}, \\frac{53}{15} \\, a^{5} + 3 \\, a^{4} b + \\frac{212}{15} \\, a^{3} b + 9 \\, a^{2} b^{2} + \\frac{53}{5} \\, a b^{2} + 3 \\, b^{3}, \\frac{53}{15} \\, a^{6} + 3 \\, a^{5} b + \\frac{53}{3} \\, a^{4} b + 12 \\, a^{3} b^{2} + \\frac{106}{5} \\, a^{2} b^{2} + 9 \\, a b^{3} + \\frac{53}{15} \\, b^{3}\\right]</script></html>"
      ],
      "text/latex": [
       "$$\\newcommand{\\Bold}[1]{\\mathbf{#1}}\\left[3, \\frac{53}{15}, \\frac{53}{15} \\, a + 3 \\, b, \\frac{53}{15} \\, a^{2} + 3 \\, a b + \\frac{53}{15} \\, b, \\frac{53}{15} \\, a^{3} + 3 \\, a^{2} b + \\frac{106}{15} \\, a b + 3 \\, b^{2}, \\frac{53}{15} \\, a^{4} + 3 \\, a^{3} b + \\frac{53}{5} \\, a^{2} b + 6 \\, a b^{2} + \\frac{53}{15} \\, b^{2}, \\frac{53}{15} \\, a^{5} + 3 \\, a^{4} b + \\frac{212}{15} \\, a^{3} b + 9 \\, a^{2} b^{2} + \\frac{53}{5} \\, a b^{2} + 3 \\, b^{3}, \\frac{53}{15} \\, a^{6} + 3 \\, a^{5} b + \\frac{53}{3} \\, a^{4} b + 12 \\, a^{3} b^{2} + \\frac{106}{5} \\, a^{2} b^{2} + 9 \\, a b^{3} + \\frac{53}{15} \\, b^{3}\\right]$$"
      ],
      "text/plain": [
       "[3,\n",
       " 53/15,\n",
       " 53/15*a + 3*b,\n",
       " 53/15*a^2 + 3*a*b + 53/15*b,\n",
       " 53/15*a^3 + 3*a^2*b + 106/15*a*b + 3*b^2,\n",
       " 53/15*a^4 + 3*a^3*b + 53/5*a^2*b + 6*a*b^2 + 53/15*b^2,\n",
       " 53/15*a^5 + 3*a^4*b + 212/15*a^3*b + 9*a^2*b^2 + 53/5*a*b^2 + 3*b^3,\n",
       " 53/15*a^6 + 3*a^5*b + 53/3*a^4*b + 12*a^3*b^2 + 106/5*a^2*b^2 + 9*a*b^3 + 53/15*b^3]"
      ]
     },
     "metadata": {},
     "output_type": "display_data"
    }
   ],
   "source": [
    "var('a')\n",
    "var('b')\n",
    "Uvalue=[]*7\n",
    "Uvalue.append(f(0))\n",
    "Uvalue.append(f(1))\n",
    "for i in range(2,8):\n",
    "    val=a*Uvalue[i-1] + b*Uvalue[i-2]\n",
    "    Uvalue.append(val.expand())\n",
    "    \n",
    "show(Uvalue)"
   ]
  },
  {
   "cell_type": "code",
   "execution_count": null,
   "id": "9a6c5d3c",
   "metadata": {},
   "outputs": [],
   "source": []
  },
  {
   "cell_type": "markdown",
   "id": "8a5c4051",
   "metadata": {},
   "source": [
    "\n",
    "## Question 1.4\n",
    "\n",
    "En utilisant la liste ``Uvalue`` et ``Fvalue``, montrer qu'il n'existe pas de valeurs pour $a$ et $b$ qui fonctionnent. **Aide:** il faudra trouver deux équations différentes impliquant $a$ et $b$, puis les résoudre **exactement** pour trouver des valeurs pour $a$ et $b$. Enfin, montrer qu'en substituant les valeurs trouvées de $a$ et $b$  dans la liste ``Uvalue`` on obtient une liste différente de ``Fvalue``. Vous devrez à la fois afficher les deux listes et faire un test pour valider cette dernière affirmation."
   ]
  },
  {
   "cell_type": "code",
   "execution_count": null,
   "id": "834d5b2f",
   "metadata": {
    "deletable": false,
    "editable": false
   },
   "outputs": [],
   "source": [
    "q14=0 # NE PAS MODIFIER !!!"
   ]
  },
  {
   "cell_type": "code",
   "execution_count": null,
   "id": "ba74ac51",
   "metadata": {},
   "outputs": [],
   "source": [
    "# Reponse 1.4 (2) "
   ]
  },
  {
   "cell_type": "code",
   "execution_count": 35,
   "id": "3b2e4f98",
   "metadata": {},
   "outputs": [
    {
     "data": {
      "text/html": [
       "<html><script type=\"math/tex; mode=display\">\\newcommand{\\Bold}[1]{\\mathbf{#1}}\\frac{53}{15} \\, a + 3 \\, b = \\frac{53}{15} \\, a + 3 \\, b</script></html>"
      ],
      "text/latex": [
       "$$\\newcommand{\\Bold}[1]{\\mathbf{#1}}\\frac{53}{15} \\, a + 3 \\, b = \\frac{53}{15} \\, a + 3 \\, b$$"
      ],
      "text/plain": [
       "53/15*a + 3*b == 53/15*a + 3*b"
      ]
     },
     "metadata": {},
     "output_type": "display_data"
    },
    {
     "data": {
      "text/html": [
       "<html><script type=\"math/tex; mode=display\">\\newcommand{\\Bold}[1]{\\mathbf{#1}}\\left(\\frac{1309}{225}\\right) = \\frac{53}{15} \\, a + 3 \\, b</script></html>"
      ],
      "text/latex": [
       "$$\\newcommand{\\Bold}[1]{\\mathbf{#1}}\\left(\\frac{1309}{225}\\right) = \\frac{53}{15} \\, a + 3 \\, b$$"
      ],
      "text/plain": [
       "(1309/225) == 53/15*a + 3*b"
      ]
     },
     "metadata": {},
     "output_type": "display_data"
    },
    {
     "data": {
      "text/html": [
       "<html><script type=\"math/tex; mode=display\">\\newcommand{\\Bold}[1]{\\mathbf{#1}}\\left[\\mathrm{False}\\right] \\left[\\left[a = -\\frac{45}{53} \\, r_{2} + \\frac{1309}{795}, b = r_{2}\\right]\\right]</script></html>"
      ],
      "text/latex": [
       "$$\\newcommand{\\Bold}[1]{\\mathbf{#1}}\\left[\\mathrm{False}\\right] \\left[\\left[a = -\\frac{45}{53} \\, r_{2} + \\frac{1309}{795}, b = r_{2}\\right]\\right]$$"
      ],
      "text/plain": [
       "[False] [[a == -45/53*r2 + 1309/795, b == r2]]"
      ]
     },
     "metadata": {},
     "output_type": "display_data"
    }
   ],
   "source": [
    "var('a')\n",
    "var('b')\n",
    "\n",
    "eqU= Uvalue[2]== a*Uvalue[1] + b*Uvalue[0]\n",
    "eqF= Fvalue[2]== a*Fvalue[1] + b*Fvalue[0]\n",
    "\n",
    "show(eqU)\n",
    "show(eqF)\n",
    "\n",
    "resU=solve(eqU,(a,b))\n",
    "resF=solve(eqF,(a,b))\n",
    "\n",
    "show(resU,resF)"
   ]
  },
  {
   "cell_type": "code",
   "execution_count": null,
   "id": "6e7e61b3",
   "metadata": {
    "scrolled": true
   },
   "outputs": [],
   "source": []
  },
  {
   "cell_type": "markdown",
   "id": "db494785",
   "metadata": {},
   "source": [
    "## Question 1.5\n",
    "\n",
    "Dans le TP2, vous avez appris qu'une suite récurrente linéare $U_n$ vérifie $U_n= \\sum c_i r_i^n$ si et seulement si les $r_i$ correspondent aux racines du polynôme caractéristique de la suite $U_n$. Sachant que dans notre cas les $c_i$ sont tous égaux à 1 (d'après la définition de $f(n)$), calculer le polynôme caractéristique ``H(n)`` de la suite $U_n=f(n)$."
   ]
  },
  {
   "cell_type": "code",
   "execution_count": null,
   "id": "bd6ed14f",
   "metadata": {
    "deletable": false,
    "editable": false
   },
   "outputs": [],
   "source": [
    "q15=0 # NE PAS MODIFIER !!!"
   ]
  },
  {
   "cell_type": "code",
   "execution_count": null,
   "id": "7d178092",
   "metadata": {},
   "outputs": [],
   "source": [
    "# Reponse 1.5 (1) "
   ]
  },
  {
   "cell_type": "code",
   "execution_count": null,
   "id": "c89f6402",
   "metadata": {},
   "outputs": [],
   "source": []
  },
  {
   "cell_type": "code",
   "execution_count": null,
   "id": "fc77e3eb",
   "metadata": {},
   "outputs": [],
   "source": []
  },
  {
   "cell_type": "markdown",
   "id": "2360461a",
   "metadata": {},
   "source": [
    "\n",
    "## Question 1.6\n",
    "\n",
    "À partir de votre polynôme ``H`` vous définirez la liste des coefficients ``Coeff``=$[a_1,a_2,a_3, ...]$ définissant la suite $U_n=a_1U_{n-1}+a_2U_{n-2}+a_3U_{n-3}+ ... = f(n)$ ainsi que la liste des conditions initiales ``Cond`` nécessaires. Vous afficherez ces deux listes."
   ]
  },
  {
   "cell_type": "code",
   "execution_count": null,
   "id": "a7741be3",
   "metadata": {
    "deletable": false,
    "editable": false
   },
   "outputs": [],
   "source": [
    "q16=0 # NE PAS MODIFIER !!!"
   ]
  },
  {
   "cell_type": "code",
   "execution_count": null,
   "id": "0f1cd9ea",
   "metadata": {},
   "outputs": [],
   "source": [
    "# Reponse 1.6 (2) "
   ]
  },
  {
   "cell_type": "code",
   "execution_count": null,
   "id": "2db1e7e7",
   "metadata": {},
   "outputs": [],
   "source": []
  },
  {
   "cell_type": "code",
   "execution_count": null,
   "id": "49f56a03",
   "metadata": {},
   "outputs": [],
   "source": []
  },
  {
   "cell_type": "markdown",
   "id": "c7d33b49",
   "metadata": {},
   "source": [
    "\n",
    "## Question 1.7\n",
    "\n",
    "À partir des listes ``Coeff`` et ``Cond`` construire les 100 premiers termes de la suite $U_n$ et vérifier qu'ils correpondent aux  valeurs de la fonction $f$ sur les 100 premiers entiers. Le simple affichage de ces liste ne sera pas considéré comme une vérification valable."
   ]
  },
  {
   "cell_type": "code",
   "execution_count": null,
   "id": "a05f3646",
   "metadata": {
    "deletable": false,
    "editable": false
   },
   "outputs": [],
   "source": [
    "q17=0 # NE PAS MODIFIER !!!"
   ]
  },
  {
   "cell_type": "code",
   "execution_count": null,
   "id": "9683ec62",
   "metadata": {},
   "outputs": [],
   "source": [
    "# Reponse 1.7 (1) "
   ]
  },
  {
   "cell_type": "code",
   "execution_count": null,
   "id": "29729a47",
   "metadata": {},
   "outputs": [],
   "source": []
  },
  {
   "cell_type": "code",
   "execution_count": null,
   "id": "d0b8b91f",
   "metadata": {},
   "outputs": [],
   "source": []
  },
  {
   "cell_type": "markdown",
   "id": "9b28feb6",
   "metadata": {},
   "source": [
    "# Des codes et des secrets\n"
   ]
  },
  {
   "cell_type": "markdown",
   "id": "d654112d",
   "metadata": {},
   "source": [
    "John, un étudiant tête en l'air, oublie souvent son code de carte bleu. Il décide de déléguer cette tâche à 4 de ses meilleurs amis. Cependant, John ne souhaite pas que ses amis connaissent son code de carte bleu. Grâce à ses connaissances en calcul formel, il se dit que cela doit être possible. En particulier, il se souvient qu'un polynome $f(x)$ de degrès $n-1$ est totalement déterminée par ses évaluations en $n$ points distincts. Autrement dit, on peut retrouver $f(x)$ à partir des points $[(x_1,f(x_1)), \\dots (x_n,f(x_n))]$. \n",
    "\n",
    "John imagine donc de partager son code secret $s$ à 4 chiffres comme suit. Il définit un polynôme quelconque $P$ de degrès 3 tel que $P(0)=s$ et il donne un couple $(x_i,P(x_i))$ à chacun de ses amis de telle sorte que les $x_i$ soient tous distincts. Pour retrouver son code secret, il suffira à John de demander les couples à chacun de ses amis."
   ]
  },
  {
   "cell_type": "markdown",
   "id": "31eec317",
   "metadata": {},
   "source": [
    "## Question 2.1\n",
    "Sachant que le code secret de John est $4271$, définissez une liste ``Lcode`` contenant les 4 points que doit distribuer john à ses amis. Attention, aucun de ses amis ne doit connaitre le code secret. **Aide:** le polynôme $P$ aura des coefficients rationnels (non triviaux) sauf pour le terme constant qui correspondra à $s$."
   ]
  },
  {
   "cell_type": "code",
   "execution_count": null,
   "id": "8922bbd2",
   "metadata": {
    "deletable": false,
    "editable": false
   },
   "outputs": [],
   "source": [
    "q21=0 # NE PAS MODIFIER !!!"
   ]
  },
  {
   "cell_type": "code",
   "execution_count": null,
   "id": "5b424606",
   "metadata": {},
   "outputs": [],
   "source": [
    "# Reponse 2.1 (1) "
   ]
  },
  {
   "cell_type": "code",
   "execution_count": 1,
   "id": "46fd09e0",
   "metadata": {},
   "outputs": [
    {
     "data": {
      "text/html": [
       "<html><script type=\"math/tex; mode=display\">\\newcommand{\\Bold}[1]{\\mathbf{#1}}\\left[\\left(1, 4408\\right), \\left(2, 5043\\right), \\left(3, 6590\\right), \\left(4, 9463\\right)\\right]</script></html>"
      ],
      "text/latex": [
       "$$\\newcommand{\\Bold}[1]{\\mathbf{#1}}\\left[\\left(1, 4408\\right), \\left(2, 5043\\right), \\left(3, 6590\\right), \\left(4, 9463\\right)\\right]$$"
      ],
      "text/plain": [
       "[(1, 4408), (2, 5043), (3, 6590), (4, 9463)]"
      ]
     },
     "metadata": {},
     "output_type": "display_data"
    },
    {
     "data": {
      "text/plain": [
       "4271"
      ]
     },
     "execution_count": 1,
     "metadata": {},
     "output_type": "execute_result"
    }
   ],
   "source": [
    "P(x)=69*x^3 + 42*x^2 + 26*x + 4271\n",
    "Lcode=[(x,P(x)) for x in range(1,5)]\n",
    "show(Lcode)\n",
    "P(0)"
   ]
  },
  {
   "cell_type": "markdown",
   "id": "7fe92204",
   "metadata": {},
   "source": []
  },
  {
   "cell_type": "markdown",
   "id": "5457aa8b",
   "metadata": {},
   "source": [
    "## Question 2.2\n",
    "\n",
    "En utilisant **obligatoirement** la fonction Sage ``find_fit``, écrire une fonction ``getCode`` qui permettra à John de retrouver son code de carte bleu à partir de la liste des points données à ces amis. Vous vérifierez que votre fonction renvoie le bon code pour la liste ``Lcode`` construite à la question précédente. **Aide:** il faudra retrouver le polynôme $P(x)$ de degrès 3 à partir des points. Il y aura peut être un arrondi à faire !!!"
   ]
  },
  {
   "cell_type": "code",
   "execution_count": 2,
   "id": "149173a1",
   "metadata": {
    "deletable": false,
    "editable": false
   },
   "outputs": [],
   "source": [
    "q22=0 # NE PAS MODIFIER !!!"
   ]
  },
  {
   "cell_type": "code",
   "execution_count": 3,
   "id": "34c9d830",
   "metadata": {},
   "outputs": [],
   "source": [
    "# Reponse 2.2 (2) "
   ]
  },
  {
   "cell_type": "code",
   "execution_count": 44,
   "id": "1ed67be6",
   "metadata": {},
   "outputs": [
    {
     "data": {
      "text/plain": [
       "4271"
      ]
     },
     "execution_count": 44,
     "metadata": {},
     "output_type": "execute_result"
    }
   ],
   "source": [
    "def getCode(Lcode):\n",
    "    var('a b c d')\n",
    "    f(x)=a*x^3 + b*x^2 + c*x + d\n",
    "    res=find_fit(Lcode,f)\n",
    "    return round(res[3].rhs())\n",
    "\n",
    "\n",
    "getCode(Lcode)"
   ]
  },
  {
   "cell_type": "code",
   "execution_count": 45,
   "id": "b9c30b51",
   "metadata": {
    "scrolled": true
   },
   "outputs": [],
   "source": []
  },
  {
   "cell_type": "markdown",
   "id": "73383cca",
   "metadata": {},
   "source": [
    "## Question 2.3\n",
    "John a en fait distribué les points suivant à ses amis: $[(-7, 66578/15), (-6, 21973/5), (3, 21496/5), (9, 22678/5)]$.\n",
    "\n",
    "\n",
    "Jack (un des amis) a reçu le point $(-7, 66578/15)$ et pense qu'il peut retrouver le code secret en s'alliant avec un seul des autres amis. \n",
    "1. Proposer une fonction ``getPoly`` similaire à ``getCode`` mais qui retourne le polynôme P(x) tout entier. Cette fonction prendra en plus de la liste des points le modèle (symbolique) de fonction qu'il faut trouver.\n",
    "2. Calculer l'ensemble des droites qui passe par le point de Jack et un point parmis les autres amis. Afficher sur un graphique et concluer sur l'hypothèse de Jack (avec une réponse argumentée). "
   ]
  },
  {
   "cell_type": "code",
   "execution_count": null,
   "id": "dc503c95",
   "metadata": {
    "deletable": false,
    "editable": false
   },
   "outputs": [],
   "source": [
    "q231=0 # NE PAS MODIFIER !!!\n",
    "q232=0 # NE PAS MODIFIER !!!"
   ]
  },
  {
   "cell_type": "code",
   "execution_count": null,
   "id": "39e9d9d9",
   "metadata": {},
   "outputs": [],
   "source": [
    "# Reponse 2.3.1 (1) "
   ]
  },
  {
   "cell_type": "code",
   "execution_count": 45,
   "id": "afa63648",
   "metadata": {},
   "outputs": [
    {
     "data": {
      "text/html": [
       "<html><script type=\"math/tex; mode=display\">\\newcommand{\\Bold}[1]{\\mathbf{#1}}x \\ {\\mapsto}\\ -\\left(2.156497203031904 \\times 10^{-12}\\right) \\, x^{3} + 3.3333333333441564 \\, x^{2} - 0.5999999998867077 \\, x + 4270.999999999662</script></html>"
      ],
      "text/latex": [
       "$$\\newcommand{\\Bold}[1]{\\mathbf{#1}}x \\ {\\mapsto}\\ -\\left(2.156497203031904 \\times 10^{-12}\\right) \\, x^{3} + 3.3333333333441564 \\, x^{2} - 0.5999999998867077 \\, x + 4270.999999999662$$"
      ],
      "text/plain": [
       "x |--> -(2.156497203031904e-12)*x^3 + 3.3333333333441564*x^2 - 0.5999999998867077*x + 4270.999999999662"
      ]
     },
     "metadata": {},
     "output_type": "display_data"
    }
   ],
   "source": [
    "John=(-7,66578/15)\n",
    "Autre=[(-6,21973/5),(3,21496/5),(9,22678/5)]\n",
    "\n",
    "Groupe=[(-7,66578/15),(-6,21973/5),(3,21496/5),(9,22678/5)]\n",
    "\n",
    "def getPoly(liste,modele):\n",
    "    res=find_fit(liste,modele)\n",
    "    poly= modele.subs(res)\n",
    "    return poly\n",
    "g(x)=a*x^3 + b*x^2 + c*x + d\n",
    "\n",
    "show(getPoly(Groupe,g))\n"
   ]
  },
  {
   "cell_type": "code",
   "execution_count": null,
   "id": "94c51dd1",
   "metadata": {},
   "outputs": [],
   "source": [
    "# Reponse 2.3.2 (2) "
   ]
  },
  {
   "cell_type": "code",
   "execution_count": 47,
   "id": "4126c888",
   "metadata": {},
   "outputs": [],
   "source": [
    "h(x)= a*x+b\n",
    "liste1=[(-7,66578/15),(-6,21973/5)]\n",
    "liste2=[(-7,66578/15),(3,21496/5)]\n",
    "liste3=[(-7,66578/15),(9,22678/5)]\n",
    "\n",
    "droite0(x)=getPoly(Groupe,h)\n",
    "droite1(x)=getPoly(liste1,h)\n",
    "droite2(x)=getPoly(liste2,h)\n",
    "droite3(x)=getPoly(liste3,h)\n",
    "\n",
    "plot(droite0,-10,10)+plot(droite1,-10,10)+plot(droite2,-10,10)+plot(droite3,-10,10)\n",
    "\n"
   ]
  },
  {
   "cell_type": "markdown",
   "id": "e5d1f315",
   "metadata": {},
   "source": [
    "## Question 2.4\n",
    "\n",
    "En utilisant un graphique similaire, montrez que Jack doit s'allier avec au moins 2 autres amis de John pour retrouver le code secret."
   ]
  },
  {
   "cell_type": "code",
   "execution_count": null,
   "id": "c82eddbf",
   "metadata": {
    "deletable": false,
    "editable": false
   },
   "outputs": [],
   "source": [
    "q24=0 # NE PAS MODIFIER !!!"
   ]
  },
  {
   "cell_type": "code",
   "execution_count": null,
   "id": "0e7476ef",
   "metadata": {},
   "outputs": [],
   "source": [
    "# Reponse 2.4 (1) "
   ]
  },
  {
   "cell_type": "code",
   "execution_count": null,
   "id": "01c7afbf",
   "metadata": {},
   "outputs": [],
   "source": []
  },
  {
   "cell_type": "code",
   "execution_count": null,
   "id": "0040c38c",
   "metadata": {},
   "outputs": [],
   "source": []
  },
  {
   "cell_type": "markdown",
   "id": "9df5ef8e",
   "metadata": {},
   "source": [
    "## Question 2.5\n",
    "\n",
    "Afin de faciliter la vie à ses amis John décide de distribuer les points $[(1,P(1)),(2,P(2)),(3,P(3)),(4,P(4))]$ en garantissant que $P(1),\\dots,P(4)$ soit des entiers d'au plus 4 chiffres. \n",
    "1. Définir une structure mathématique qui permet de garantir que les coefficients du polynôme $P$ ainsi que toutes les évaluations possibles de $P$ aient au plus 4 chiffres décimaux. Proposer un polynôme $P$ tel que $P(0)=4271$ et qui vérifie la propriété désirée.\n",
    "2. Proposer une fonction ``encodeSecret`` qui prend en entrée un secret $s$, un nombre $n$ d'amis et qui calcule les points que doit distribuer John à ses amis. **Attention** Les coefficients non-constants de $P$ devront être choisis aléatoirement parmi l'ensemble des entiers ayant au plus 4 chiffres.\n",
    "3. Proposer une fonction ``decodeSecret`` qui prend en entrée la listes des points des amis et qui retourne le code secret. **Attention** la fonction `find_fit` ne vous sera d'aucune aide, tournez vous plutôt vers de l'algèbre linéaire exacte !!!\n",
    "4. Vérifier que l'appel ``decodeSecret(encodeSecret(4271,10))`` retourne 4271 et que\n",
    "le décodage de la liste L suivante vous donne aussi 4271. ``L=[(1, 5521), (2, 429), (3, 6103), (4, 9651)]``."
   ]
  },
  {
   "cell_type": "code",
   "execution_count": null,
   "id": "c557bf4f",
   "metadata": {
    "deletable": false,
    "editable": false
   },
   "outputs": [],
   "source": [
    "q251=0 # NE PAS MODIFIER !!!\n",
    "q252=0 # NE PAS MODIFIER !!!\n",
    "q253=0 # NE PAS MODIFIER !!!\n",
    "q254=0 # NE PAS MODIFIER !!!"
   ]
  },
  {
   "cell_type": "code",
   "execution_count": null,
   "id": "082cb14e",
   "metadata": {},
   "outputs": [],
   "source": [
    "# Reponse 2.5.1 (1) "
   ]
  },
  {
   "cell_type": "code",
   "execution_count": null,
   "id": "66815785",
   "metadata": {},
   "outputs": [],
   "source": []
  },
  {
   "cell_type": "code",
   "execution_count": null,
   "id": "06365493",
   "metadata": {},
   "outputs": [],
   "source": [
    "# Reponse 2.5.2 (2) "
   ]
  },
  {
   "cell_type": "code",
   "execution_count": null,
   "id": "85c9bea5",
   "metadata": {},
   "outputs": [],
   "source": []
  },
  {
   "cell_type": "code",
   "execution_count": null,
   "id": "b4fa688e",
   "metadata": {},
   "outputs": [],
   "source": [
    "# Reponse 2.5.3 (2) "
   ]
  },
  {
   "cell_type": "code",
   "execution_count": null,
   "id": "f9fc1b50",
   "metadata": {},
   "outputs": [],
   "source": []
  },
  {
   "cell_type": "code",
   "execution_count": null,
   "id": "2fb9c0ed",
   "metadata": {},
   "outputs": [],
   "source": [
    "# Reponse 2.5.4 (1) "
   ]
  },
  {
   "cell_type": "code",
   "execution_count": null,
   "id": "b2fa713d",
   "metadata": {},
   "outputs": [],
   "source": []
  },
  {
   "cell_type": "markdown",
   "id": "cc4b8d49",
   "metadata": {},
   "source": [
    "## Question 2.6\n",
    "\n",
    "John s'est en fait trompé et il a transmis à ses amis la liste `L=[(1, 6563), (2, 1287), (3, 8309), (4, 8953)]` au lieu de la liste ``L=[(1, 5521), (2, 429), (3, 6103), (4, 9651)]``.\n",
    "Décoder le secret caché derrière cette nouvelle liste et trouver une propriété mathématique sur les fonctions **encodeSecret** et **decodeSecret**. \n",
    "\n",
    "**Aide:** John a multiplié tous les chiffres par une même valeur."
   ]
  },
  {
   "cell_type": "code",
   "execution_count": null,
   "id": "d36d0ce1",
   "metadata": {
    "deletable": false,
    "editable": false
   },
   "outputs": [],
   "source": [
    "q26=0 # NE PAS MODIFIER !!!"
   ]
  },
  {
   "cell_type": "code",
   "execution_count": null,
   "id": "52f5832e",
   "metadata": {},
   "outputs": [],
   "source": [
    "# Reponse 2.6 (1) "
   ]
  },
  {
   "cell_type": "code",
   "execution_count": null,
   "id": "c190f116",
   "metadata": {},
   "outputs": [],
   "source": []
  },
  {
   "cell_type": "code",
   "execution_count": null,
   "id": "8c9cd0dc",
   "metadata": {},
   "outputs": [],
   "source": []
  },
  {
   "cell_type": "markdown",
   "id": "be290127",
   "metadata": {},
   "source": [
    " # C'est quoi une matrice nilpotente ???\n"
   ]
  },
  {
   "cell_type": "markdown",
   "id": "6cd07f28",
   "metadata": {},
   "source": [
    "Une matrice carrée $A$ de dimension $n$ est dite nilpotente si il existe un entier $k$, $0<k\\leq n$, tel que $A^k=0_n$ où $0_n$ est la matrice nulle de dimension $n$. L'ordre de nilpotence correspond au plus petit entier $k>0$ tel que $A^k=0_n$. "
   ]
  },
  {
   "cell_type": "markdown",
   "id": "5a88b5ad",
   "metadata": {},
   "source": [
    "\n",
    "\n",
    "## Question 3.1 \n",
    "Parmi les matrices suivante, déterminer celles qui sont nilpotentes et donner leur ordre de nilpotence.\n",
    "Pour éviter des erreurs de saisie, les listes des coefficients vous sont données, toutefois attention au domaine de définition des matrices.\n",
    "\n",
    "- A0 à coefficients entiers tel que $$A0= \\left(\\begin{array}{rrrr}\n",
    "2 & 2 & 2 & -3 \\\\\n",
    "6 & 1 & 1 & -4 \\\\\n",
    "1 & 6 & 1 & -4 \\\\\n",
    "1 & 1 & 6 & -4\n",
    "\\end{array}\\right)$$\n",
    "- $A_1$ à coefficients entiers telle que $$A_1= \\left(\\begin{array}{rrrrr}\n",
    "4 & 7 & -5 & -4 & -2 \\\\\n",
    "-4 & -8 & 6 & 6 & 4 \\\\\n",
    "-2 & -5 & 4 & 5 & 4 \\\\\n",
    "0 & 0 & 0 & -1 & -1 \\\\\n",
    "0 & 0 & 0 & 1 & 1\n",
    "\\end{array}\\right)$$\n",
    "- $A_2$ à coefficients entiers telle que $$A_2=\\left(\\begin{array}{rrrr}\n",
    "11 & -1 & -1 & 1 \\\\\n",
    "0 & 1 & -1 & -4 \\\\\n",
    "-5 & -1 & 1 & 3 \\\\\n",
    "2 & -2 & 0 & 14\n",
    "\\end{array}\\right)$$\n",
    "- $A_3$ à coefficients entiers telle que $$A3=\\left(\\begin{array}{rrrr}\n",
    "4 & 0 & 1 & 3 \\\\\n",
    "1 & 3 & 4 & 0 \\\\\n",
    "4 & 6 & 2 & 4 \\\\\n",
    "6 & 6 & 1 & 5\n",
    "\\end{array}\\right)$$\n",
    "- $A_4$ à coefficients dans $\\mathbb{Z}/7\\mathbb{Z}$ telle que $$A_4=\\left(\\begin{array}{rrrr}\n",
    "4 & 0 & 1 & 3 \\\\\n",
    "1 & 3 & 4 & 0 \\\\\n",
    "4 & 6 & 2 & 4 \\\\\n",
    "6 & 6 & 1 & 5\n",
    "\\end{array}\\right)$$\n",
    "- $A_5$ à coefficients dans $\\mathbb{Z}/11\\mathbb{Z}$ telle que $$A_5=\\left(\\begin{array}{rrr}\n",
    "4 & 10 & 2 \\\\\n",
    "0 & 8 & 3 \\\\\n",
    "10 & 5 & 10\n",
    "\\end{array}\\right)$$\n",
    "\n",
    "**AIDE**\n",
    "Définissez une fonction `isNilpotent` qui pour une matrice donnée vous renvoie une chaine de caractère donnant la réponse."
   ]
  },
  {
   "cell_type": "code",
   "execution_count": 1,
   "id": "29711e11",
   "metadata": {
    "deletable": false,
    "editable": false
   },
   "outputs": [],
   "source": [
    "A0_coeff=[2,2,2,-3,6,1,1,-4,1,6,1,-4,1,1,6,-4]\n",
    "A1_coeff= [4, 7, -5, -4, -2, -4, -8, 6, 6, 4, -2, -5, 4, 5, 4, 0, 0, 0, -1, -1, 0, 0, 0, 1, 1]\n",
    "A2_coeff=[11, -1, -1, 1, 0, 1, -1, -4, -5, -1, 1, 3, 2, -2, 0, 14]\n",
    "A3_coeff=[4, 0, 1, 3, 1, 3, 4, 0, 4, 6, 2, 4, 6, 6, 1, 5]\n",
    "A4_coeff=[4, 0, 1, 3, 1, 3, 4, 0, 4, 6, 2, 4, 6, 6, 1, 5]\n",
    "A5_coeff=[4, 10, 2, 0, 8, 3, 10, 5, 10]"
   ]
  },
  {
   "cell_type": "code",
   "execution_count": 2,
   "id": "0658e163",
   "metadata": {
    "deletable": false,
    "editable": false
   },
   "outputs": [],
   "source": [
    "q31=0 # NE PAS MODIFIER !!!"
   ]
  },
  {
   "cell_type": "code",
   "execution_count": 3,
   "id": "174ed374",
   "metadata": {},
   "outputs": [],
   "source": [
    "# Reponse 3.1 (3) "
   ]
  },
  {
   "cell_type": "code",
   "execution_count": 4,
   "id": "978627e7",
   "metadata": {},
   "outputs": [],
   "source": [
    "def isNilPotent(A):\n",
    "    n= A.nrows()**A.ncols()\n",
    "    for i in range(n):\n",
    "        A *= A \n",
    "        if A == Matrix(A.nrows(),A.ncols(),0):\n",
    "            return f\"Est nilpotente d'ordre {i}\"\n",
    "    return \"n'est pas nilpotente\""
   ]
  },
  {
   "cell_type": "code",
   "execution_count": 5,
   "id": "2862368c",
   "metadata": {},
   "outputs": [],
   "source": [
    "A0=Matrix(4,4,A0_coeff)\n",
    "A1=Matrix(5,5,A1_coeff)\n",
    "A2=Matrix(4,4,A2_coeff)\n",
    "A3=Matrix(4,4,A3_coeff)\n",
    "A4=Matrix(4,4,A4_coeff)\n",
    "A5=Matrix(3,3,A5_coeff)\n",
    "\n"
   ]
  },
  {
   "cell_type": "code",
   "execution_count": null,
   "id": "71781220",
   "metadata": {},
   "outputs": [],
   "source": [
    "liste_matrice=[A0,A1,A2,A3,A4,A5]\n",
    "for matrice in liste_matrice:\n",
    "    show(isNilPotent(matrice))"
   ]
  },
  {
   "cell_type": "code",
   "execution_count": null,
   "id": "d33ad863",
   "metadata": {},
   "outputs": [],
   "source": []
  },
  {
   "cell_type": "code",
   "execution_count": null,
   "id": "d4f94cee",
   "metadata": {},
   "outputs": [],
   "source": []
  },
  {
   "cell_type": "code",
   "execution_count": null,
   "id": "a6b5fe64",
   "metadata": {},
   "outputs": [],
   "source": []
  },
  {
   "cell_type": "code",
   "execution_count": null,
   "id": "2d5f4c40",
   "metadata": {},
   "outputs": [],
   "source": []
  },
  {
   "cell_type": "code",
   "execution_count": null,
   "id": "e3f4fb76",
   "metadata": {},
   "outputs": [],
   "source": []
  },
  {
   "cell_type": "code",
   "execution_count": null,
   "id": "a9795bac",
   "metadata": {},
   "outputs": [],
   "source": []
  }
 ],
 "metadata": {
  "celltoolbar": "Éditer les Méta-Données",
  "kernelspec": {
   "display_name": "SageMath 9.5",
   "language": "sage",
   "name": "sagemath"
  },
  "language_info": {
   "codemirror_mode": {
    "name": "ipython",
    "version": 3
   },
   "file_extension": ".py",
   "mimetype": "text/x-python",
   "name": "python",
   "nbconvert_exporter": "python",
   "pygments_lexer": "ipython3",
   "version": "3.10.12"
  },
  "toc": {
   "base_numbering": 1,
   "nav_menu": {},
   "number_sections": true,
   "sideBar": true,
   "skip_h1_title": false,
   "title_cell": "Table of Contents",
   "title_sidebar": "Contents",
   "toc_cell": false,
   "toc_position": {
    "height": "calc(100% - 180px)",
    "left": "10px",
    "top": "150px",
    "width": "165px"
   },
   "toc_section_display": true,
   "toc_window_display": true
  }
 },
 "nbformat": 4,
 "nbformat_minor": 5
}
