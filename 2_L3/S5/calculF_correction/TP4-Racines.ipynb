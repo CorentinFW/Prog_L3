{
 "cells": [
  {
   "cell_type": "markdown",
   "metadata": {
    "deletable": false,
    "editable": false,
    "run_control": {
     "frozen": true
    }
   },
   "source": [
    "# TP Calcul de racines"
   ]
  },
  {
   "cell_type": "markdown",
   "metadata": {
    "deletable": false,
    "editable": false,
    "run_control": {
     "frozen": true
    }
   },
   "source": [
    "Durant ce TP, nous nous intéressons aux méthodes numériques pour déterminer les zéros de fonctions."
   ]
  },
  {
   "cell_type": "markdown",
   "metadata": {
    "deletable": false,
    "editable": false,
    "run_control": {
     "frozen": true
    }
   },
   "source": [
    "## Recherche de minimum"
   ]
  },
  {
   "cell_type": "markdown",
   "metadata": {
    "deletable": false,
    "editable": false,
    "run_control": {
     "frozen": true
    }
   },
   "source": [
    "L'une des applications de l'obtention des zéros est la détermination d'extremums locaux. Dans cette partie, nous nous intéresserons seulement aux minimums. Un minimum local d'une fonction $f$ correspond à un $x_{min}$ tel que il existe un intervale $I=]a,b[$ tel que $\\forall x \\in I, f(x)\\geq f(x_{min})$."
   ]
  },
  {
   "cell_type": "markdown",
   "metadata": {
    "deletable": false,
    "editable": false,
    "run_control": {
     "frozen": true
    }
   },
   "source": [
    "### Question\n",
    "1. Afficher le graphique de la fonction $f(x)=2x^6-12x^5+15x^4+20x^3-36x^2+4$ et trouver un intervalle qui permette de voir tous ses minimums locaux. *Vous pourrez utiliser la fonction d'interaction vue au TP1* `@interact`.\n",
    "1. Afficher à la fois le graphe de $f$ et de sa dérivée. Vérifiez que la derivée de $f$ s'annule toujours dans un minimum local de $f$.\n",
    "1. Trouver au moins un point $x_0$ qui n'est pas un minimum local et qui pourtant verifie $f'(x_0)=0$. Que peut t-on dire sur ce point ?"
   ]
  },
  {
   "cell_type": "code",
   "execution_count": 1,
   "metadata": {},
   "outputs": [
    {
     "name": "stderr",
     "output_type": "stream",
     "text": [
      "Widget Javascript not detected.  It may not be installed or enabled properly. Reconnecting the current kernel may help.\n"
     ]
    },
    {
     "data": {
      "application/vnd.jupyter.widget-view+json": {
       "model_id": "866f1b16f20c4fcea78d32a716726c89"
      }
     },
     "metadata": {},
     "output_type": "display_data"
    }
   ],
   "source": [
    "var('x')\n",
    "f(x)=(2*x^6)-(12*x^5)+(15*x^4)+(20*x^3)-(36*x^2)+4\n",
    "\n",
    "@interact\n",
    "def _(k = slider(1..10)):\n",
    "    F = plot(f,-2,k)\n",
    "    F.show()"
   ]
  },
  {
   "cell_type": "code",
   "execution_count": 49,
   "metadata": {},
   "outputs": [
    {
     "data": {
      "image/png": "[encoded data removed]",
      "text/plain": [
       "Graphics object consisting of 2 graphics primitives"
      ]
     },
     "execution_count": 49,
     "metadata": {},
     "output_type": "execute_result"
    }
   ],
   "source": [
    "df=f.derivative()\n",
    "plot(f,-1.2,3.2)+plot(df,-1.2,3.2, color=\"red\")"
   ]
  },
  {
   "cell_type": "code",
   "execution_count": 50,
   "metadata": {},
   "outputs": [
    {
     "data": {
      "text/plain": [
       "[x == 3, x == -1, x == 1, x == 2, x == 0]"
      ]
     },
     "execution_count": 50,
     "metadata": {},
     "output_type": "execute_result"
    }
   ],
   "source": [
    "solve(df(x)==0,x)\n",
    "\n",
    "#Un x qui n'est pas minimun local et ou f'(x)=0 signifie qu'on trouve le maximum local\n",
    "#donc 3,-1,1 sont minimum local sur le graphe, mais 0 et 2 sont maximum local"
   ]
  },
  {
   "cell_type": "markdown",
   "metadata": {
    "deletable": false,
    "editable": false,
    "run_control": {
     "frozen": true
    }
   },
   "source": [
    "### Question"
   ]
  },
  {
   "cell_type": "markdown",
   "metadata": {
    "deletable": false,
    "editable": false,
    "run_control": {
     "frozen": true
    }
   },
   "source": [
    "Tout extremum local d'une fonction dérivable $f$ correspond à une racine de sa dérivée. Nous allons utiliser cette propriété pour déterminer  les minimums de f."
   ]
  },
  {
   "cell_type": "markdown",
   "metadata": {
    "deletable": false,
    "editable": false,
    "run_control": {
     "frozen": true
    }
   },
   "source": [
    "1. En utilisant la méthode `find_root` sur des intervalles adaptés (que vous trouverez à la main) calculer chacune des racines de $f'$ qui correspond à un minimum de $f$.\n",
    "1. Evaluer $f$ et $f'$ en ces points. Vous devrez constater que `find_root` est une méthode de calcul numérique approchée.\n",
    "1. Trouver d'autres intervalles de recherches de telles sorte que les évaluations de $f$ diffèrent. "
   ]
  },
  {
   "cell_type": "code",
   "execution_count": 51,
   "metadata": {
    "scrolled": true
   },
   "outputs": [
    {
     "data": {
      "text/html": [
       "<html><script type=\"math/tex; mode=display\">\\newcommand{\\Bold}[1]{\\mathbf{#1}}\\left[-1.0000000000001752, 0.9999999999999998, 3.0000000000001728\\right]</script></html>"
      ],
      "text/latex": [
       "$$\\newcommand{\\Bold}[1]{\\mathbf{#1}}\\left[-1.0000000000001752, 0.9999999999999998, 3.0000000000001728\\right]$$"
      ],
      "text/plain": [
       "[-1.0000000000001752, 0.9999999999999998, 3.0000000000001728]"
      ]
     },
     "metadata": {},
     "output_type": "display_data"
    }
   ],
   "source": [
    "racines_min=[]\n",
    "racines_min.append(find_root(df,-1.1,-0.9))\n",
    "racines_min.append(find_root(df,0.9,1.1))\n",
    "racines_min.append(find_root(df,2.9,3.1))\n",
    "\n",
    "show(racines_min)"
   ]
  },
  {
   "cell_type": "code",
   "execution_count": 52,
   "metadata": {
    "scrolled": true
   },
   "outputs": [
    {
     "data": {
      "text/html": [
       "<html><script type=\"math/tex; mode=display\">\\newcommand{\\Bold}[1]{\\mathbf{#1}}-22.99999999999999</script></html>"
      ],
      "text/latex": [
       "$$\\newcommand{\\Bold}[1]{\\mathbf{#1}}-22.99999999999999$$"
      ],
      "text/plain": [
       "-22.99999999999999"
      ]
     },
     "metadata": {},
     "output_type": "display_data"
    },
    {
     "data": {
      "text/html": [
       "<html><script type=\"math/tex; mode=display\">\\newcommand{\\Bold}[1]{\\mathbf{#1}}-7.000000000000003</script></html>"
      ],
      "text/latex": [
       "$$\\newcommand{\\Bold}[1]{\\mathbf{#1}}-7.000000000000003$$"
      ],
      "text/plain": [
       "-7.000000000000003"
      ]
     },
     "metadata": {},
     "output_type": "display_data"
    },
    {
     "data": {
      "text/html": [
       "<html><script type=\"math/tex; mode=display\">\\newcommand{\\Bold}[1]{\\mathbf{#1}}-23.0</script></html>"
      ],
      "text/latex": [
       "$$\\newcommand{\\Bold}[1]{\\mathbf{#1}}-23.0$$"
      ],
      "text/plain": [
       "-23.0"
      ]
     },
     "metadata": {},
     "output_type": "display_data"
    },
    {
     "data": {
      "text/html": [
       "<html><script type=\"math/tex; mode=display\">\\newcommand{\\Bold}[1]{\\mathbf{#1}}-5.044498152528831 \\times 10^{-11}</script></html>"
      ],
      "text/latex": [
       "$$\\newcommand{\\Bold}[1]{\\mathbf{#1}}-5.044498152528831 \\times 10^{-11}$$"
      ],
      "text/plain": [
       "-5.044498152528831e-11"
      ]
     },
     "metadata": {},
     "output_type": "display_data"
    },
    {
     "data": {
      "text/html": [
       "<html><script type=\"math/tex; mode=display\">\\newcommand{\\Bold}[1]{\\mathbf{#1}}-1.4210854715202004 \\times 10^{-14}</script></html>"
      ],
      "text/latex": [
       "$$\\newcommand{\\Bold}[1]{\\mathbf{#1}}-1.4210854715202004 \\times 10^{-14}$$"
      ],
      "text/plain": [
       "-1.4210854715202004e-14"
      ]
     },
     "metadata": {},
     "output_type": "display_data"
    },
    {
     "data": {
      "text/html": [
       "<html><script type=\"math/tex; mode=display\">\\newcommand{\\Bold}[1]{\\mathbf{#1}}4.956746124662459 \\times 10^{-11}</script></html>"
      ],
      "text/latex": [
       "$$\\newcommand{\\Bold}[1]{\\mathbf{#1}}4.956746124662459 \\times 10^{-11}$$"
      ],
      "text/plain": [
       "4.956746124662459e-11"
      ]
     },
     "metadata": {},
     "output_type": "display_data"
    }
   ],
   "source": [
    "show(f(racines_min[0]))\n",
    "show(f(racines_min[1]))\n",
    "show(f(racines_min[2]))\n",
    "\n",
    "show(df(racines_min[0])) # tous très proches de 0\n",
    "show(df(racines_min[1]))\n",
    "show(df(racines_min[2]))"
   ]
  },
  {
   "cell_type": "code",
   "execution_count": 53,
   "metadata": {},
   "outputs": [
    {
     "data": {
      "text/html": [
       "<html><script type=\"math/tex; mode=display\">\\newcommand{\\Bold}[1]{\\mathbf{#1}}\\left[\\right]</script></html>"
      ],
      "text/latex": [
       "$$\\newcommand{\\Bold}[1]{\\mathbf{#1}}\\left[\\right]$$"
      ],
      "text/plain": [
       "[]"
      ]
     },
     "metadata": {},
     "output_type": "display_data"
    }
   ],
   "source": [
    "racines=[]\n",
    "racines_min.append(find_root(df,-0.3,0.3))\n",
    "racines_min.append(find_root(df,1.7,2.3))\n",
    "show(racines)"
   ]
  },
  {
   "cell_type": "code",
   "execution_count": null,
   "metadata": {},
   "outputs": [],
   "source": []
  },
  {
   "cell_type": "markdown",
   "metadata": {
    "deletable": false,
    "editable": false,
    "run_control": {
     "frozen": true
    }
   },
   "source": [
    "La méthode `find_root`renvoie une approximation numérique d'une racine de la fonction comprise dans l'intervalle donné en paramètres. Ainsi il peut y avoir une marge d'erreur $\\epsilon$ entre la véritable racine $r$ et la valeur $\\overline{r}= r +\\epsilon$ renvoyée par la méthode. Cette erreur se propage ensuite dans les calculs réalisés à partir de $\\overline{r}$."
   ]
  },
  {
   "cell_type": "markdown",
   "metadata": {
    "deletable": false,
    "editable": false,
    "run_control": {
     "frozen": true
    }
   },
   "source": [
    "Une autre approche consiste à passer par le calcul symbolique pour trouver les racines. La méthode `roots` cherche à calculer toutes les racines de manière exacte dans l'anneau symbolique `SR`. Cependant cette méthode peut échouer à calculer certaines racines. "
   ]
  },
  {
   "cell_type": "markdown",
   "metadata": {
    "deletable": false,
    "editable": false,
    "run_control": {
     "frozen": true
    }
   },
   "source": [
    "### Question\n",
    "1. Tester la méthode `roots` pour calculer les racines de la fonction $h(x)=x^4 + x^3 + x + 1$.\n",
    "1. En utilisant la méthode `roots`, calculer les racines de $f'$ pour la fonction $f$ de la question précédente.\n",
    "1. S'agit-il à chaque fois d'un minimum local de $f$ ? Sont-ils tous présents ? *Vous afficherez sur un graphique la fonction ainsi que les points correspondants aux racines trouvées*. \n",
    "1. Écrire une fonction qui calcule les minimums locaux d'une fonction polynomiale lorsque la méthode `roots` trouve bien toutes les racines de sa dérivée. **Rappel:** une fonction polynomiale de degrès $d$ a exactement $d$ racines (potentiellement dans la cloture algébrique). Pour récupérer l'erreur potentielle de la méthode `roots`, vous pourrez utiliser les exceptions python:\n",
    "```python:\n",
    "try :\n",
    "      ... # code qui appelle roots     \n",
    "except RuntimeError :\n",
    "      raise ValueError(\"message d'erreur\")  \n",
    "    \n",
    "1. Écrire une fonction qui affiche une fonction polynomiale et tous ses minimums locaux. \n",
    "1. Vérifier que vos fonctions sont correctes en utilisant la fonction $f$ de la question précédente."
   ]
  },
  {
   "cell_type": "code",
   "execution_count": 78,
   "metadata": {},
   "outputs": [
    {
     "data": {
      "text/html": [
       "<html><script type=\"math/tex; mode=display\">\\newcommand{\\Bold}[1]{\\mathbf{#1}}x^{4} + x^{3} + x + 1</script></html>"
      ],
      "text/latex": [
       "$$\\newcommand{\\Bold}[1]{\\mathbf{#1}}x^{4} + x^{3} + x + 1$$"
      ],
      "text/plain": [
       "x^4 + x^3 + x + 1"
      ]
     },
     "metadata": {},
     "output_type": "display_data"
    },
    {
     "data": {
      "text/html": [
       "<html><script type=\"math/tex; mode=display\">\\newcommand{\\Bold}[1]{\\mathbf{#1}}-1.0</script></html>"
      ],
      "text/latex": [
       "$$\\newcommand{\\Bold}[1]{\\mathbf{#1}}-1.0$$"
      ],
      "text/plain": [
       "-1.0"
      ]
     },
     "metadata": {},
     "output_type": "display_data"
    },
    {
     "data": {
      "text/html": [
       "<html><script type=\"math/tex; mode=display\">\\newcommand{\\Bold}[1]{\\mathbf{#1}}\\left[\\left(-\\frac{1}{2} i \\, \\sqrt{3} + \\frac{1}{2}, 1\\right), \\left(\\frac{1}{2} i \\, \\sqrt{3} + \\frac{1}{2}, 1\\right), \\left(-1, 2\\right)\\right]</script></html>"
      ],
      "text/latex": [
       "$$\\newcommand{\\Bold}[1]{\\mathbf{#1}}\\left[\\left(-\\frac{1}{2} i \\, \\sqrt{3} + \\frac{1}{2}, 1\\right), \\left(\\frac{1}{2} i \\, \\sqrt{3} + \\frac{1}{2}, 1\\right), \\left(-1, 2\\right)\\right]$$"
      ],
      "text/plain": [
       "[(-1/2*I*sqrt(3) + 1/2, 1), (1/2*I*sqrt(3) + 1/2, 1), (-1, 2)]"
      ]
     },
     "metadata": {},
     "output_type": "display_data"
    }
   ],
   "source": [
    "h(x) = x^4 + x^3 + x + 1\n",
    "show(h(x))\n",
    "\n",
    "show(find_root(h,-1,1))\n",
    "show(h.roots())\n"
   ]
  },
  {
   "cell_type": "code",
   "execution_count": 79,
   "metadata": {},
   "outputs": [
    {
     "data": {
      "text/plain": [
       "[(3, 1), (-1, 1), (1, 1), (2, 1), (0, 1)]"
      ]
     },
     "execution_count": 79,
     "metadata": {},
     "output_type": "execute_result"
    }
   ],
   "source": [
    "df.roots()\n",
    "\n",
    "#roots renvoie (l'abscisse et la multiplicité), multiplicité=nombre de fois ou ça apparait"
   ]
  },
  {
   "cell_type": "code",
   "execution_count": 98,
   "metadata": {},
   "outputs": [
    {
     "data": {
      "image/png": "[encoded data removed]",
      "text/plain": [
       "Graphics object consisting of 6 graphics primitives"
      ]
     },
     "execution_count": 98,
     "metadata": {},
     "output_type": "execute_result"
    }
   ],
   "source": [
    "plot(f,-1.2,3.2)+point((3,f(3)),color=\"red\")+point((-1,f(-1)),color=\"red\")+point((1,f(1)),color=\"red\")+point((2,f(2)),color=\"red\")+point((0,f(0)),color=\"red\")\n"
   ]
  },
  {
   "cell_type": "code",
   "execution_count": 117,
   "metadata": {},
   "outputs": [],
   "source": [
    "def min_locaux(f):\n",
    "    \n",
    "    df = f.derivative().factor()\n",
    "    \n",
    "    try:\n",
    "        racines = df.roots()\n",
    "    except RuntimeError:\n",
    "        raise ValueError(\"Roots ne parvient pas à trouver les racines symboliques\")\n",
    "        \n",
    "    cpt = 0\n",
    "    for r in racines:\n",
    "        cpt = cpt + r[1]\n",
    "        \n",
    "    if(cpt != df.degree(x)):\n",
    "        raise ValueError(\"Roots ne parvient pas à trouver toutes les racines symboliques\")\n",
    "        \n",
    "    res = []\n",
    "    for r in racines:\n",
    "        if(df(r[0] - 1e-10) < 0 and df(r[0] + 1e-10) > 0):\n",
    "            res.append(r)\n",
    "    return res"
   ]
  },
  {
   "cell_type": "code",
   "execution_count": 118,
   "metadata": {},
   "outputs": [
    {
     "data": {
      "text/html": [
       "<html><script type=\"math/tex; mode=display\">\\newcommand{\\Bold}[1]{\\mathbf{#1}}\\left[\\left(-\\frac{1}{2} \\, \\sqrt{-\\frac{2}{5} \\, \\sqrt{29} \\sqrt{5} + 6} + 1, 1\\right), \\left(\\frac{1}{2} \\, \\sqrt{\\frac{2}{5} \\, \\sqrt{29} \\sqrt{5} + 6} + 1, 1\\right)\\right]</script></html>"
      ],
      "text/latex": [
       "$$\\newcommand{\\Bold}[1]{\\mathbf{#1}}\\left[\\left(-\\frac{1}{2} \\, \\sqrt{-\\frac{2}{5} \\, \\sqrt{29} \\sqrt{5} + 6} + 1, 1\\right), \\left(\\frac{1}{2} \\, \\sqrt{\\frac{2}{5} \\, \\sqrt{29} \\sqrt{5} + 6} + 1, 1\\right)\\right]$$"
      ],
      "text/plain": [
       "[(-1/2*sqrt(-2/5*sqrt(29)*sqrt(5) + 6) + 1, 1),\n",
       " (1/2*sqrt(2/5*sqrt(29)*sqrt(5) + 6) + 1, 1)]"
      ]
     },
     "metadata": {},
     "output_type": "display_data"
    }
   ],
   "source": [
    "show(min_locaux(df))"
   ]
  },
  {
   "cell_type": "code",
   "execution_count": 119,
   "metadata": {},
   "outputs": [],
   "source": [
    "def affiche_min_locaux(f):\n",
    "    mins = min_locaux(f)\n",
    "    min_plot = min([x[0] for x in mins])\n",
    "    max_plot = max([x[0] for x in mins])\n",
    "    p = plot(f, min_plot - 1, max_plot + 1)\n",
    "    for v in mins:\n",
    "        p += point((v[0], 0),color=\"red\")\n",
    "    return p"
   ]
  },
  {
   "cell_type": "code",
   "execution_count": 120,
   "metadata": {},
   "outputs": [
    {
     "data": {
      "image/png": "[encoded data removed]",
      "text/plain": [
       "Graphics object consisting of 4 graphics primitives"
      ]
     },
     "execution_count": 120,
     "metadata": {},
     "output_type": "execute_result"
    }
   ],
   "source": [
    "affiche_min_locaux(f)"
   ]
  },
  {
   "cell_type": "markdown",
   "metadata": {
    "deletable": false,
    "editable": false,
    "run_control": {
     "frozen": true
    }
   },
   "source": [
    "### Question\n",
    "1. Tester aussi vos fonctions sur sur les fonctions polynomiales suivantes :\n",
    "\n",
    "    -$f_1(x)=15x^6 - 51x^5 - 60x^4 + 185x^3 + 60x^2 - 90x-17$\n",
    "    \n",
    "    -$f_2(x)=3x^5 - \\frac{45}{8}x^4 + \\frac{25}{2}x^3 - \\frac{45}{2}x^2 + 15x+42$\n",
    "    \n",
    "    -$f_3(x)=-5x^6 - 42x^5 - 15x^4 + 640x^3 + 1440x^2 -32$\n",
    "    \n",
    "    -$f_4(x)=-x^7 + \\frac{1}{3}x^6 - \\frac{7}{5}x^5 + \\frac{1}{2}x^4 - \\frac{7}{3}x^3 - \\frac{5}{2}x^2 + 2x$\n",
    "1. Utiliser l'affichage des fonctions pour vérifier vos réponses et adapter votre programme si besoin. *La méthode `factor` appliquée à la dérivée peut aider à comprendre ce qu'il se passe.*\n"
   ]
  },
  {
   "cell_type": "code",
   "execution_count": 121,
   "metadata": {},
   "outputs": [
    {
     "data": {
      "text/html": [
       "<html><script type=\"math/tex; mode=display\">\\newcommand{\\Bold}[1]{\\mathbf{#1}}15 \\, x^{6} - 51 \\, x^{5} - 60 \\, x^{4} + 185 \\, x^{3} + 60 \\, x^{2} - 90 \\, x - 17</script></html>"
      ],
      "text/latex": [
       "$$\\newcommand{\\Bold}[1]{\\mathbf{#1}}15 \\, x^{6} - 51 \\, x^{5} - 60 \\, x^{4} + 185 \\, x^{3} + 60 \\, x^{2} - 90 \\, x - 17$$"
      ],
      "text/plain": [
       "15*x^6 - 51*x^5 - 60*x^4 + 185*x^3 + 60*x^2 - 90*x - 17"
      ]
     },
     "metadata": {},
     "output_type": "display_data"
    },
    {
     "data": {
      "image/png": "[encoded data removed]",
      "text/plain": [
       "Graphics object consisting of 4 graphics primitives"
      ]
     },
     "execution_count": 121,
     "metadata": {},
     "output_type": "execute_result"
    }
   ],
   "source": [
    "f1(x) = (15*x^6)-(51*x^5)-(60*x^4)+(185*x^3)+(60*x^2)-(90*x)-17\n",
    "show(f1(x))\n",
    "affiche_min_locaux(f1)"
   ]
  },
  {
   "cell_type": "code",
   "execution_count": 122,
   "metadata": {},
   "outputs": [
    {
     "data": {
      "text/html": [
       "<html><script type=\"math/tex; mode=display\">\\newcommand{\\Bold}[1]{\\mathbf{#1}}3 \\, x^{5} - \\frac{45}{8} \\, x^{4} + \\frac{25}{2} \\, x^{3} - \\frac{45}{2} \\, x^{2} + 15 \\, x + 42</script></html>"
      ],
      "text/latex": [
       "$$\\newcommand{\\Bold}[1]{\\mathbf{#1}}3 \\, x^{5} - \\frac{45}{8} \\, x^{4} + \\frac{25}{2} \\, x^{3} - \\frac{45}{2} \\, x^{2} + 15 \\, x + 42$$"
      ],
      "text/plain": [
       "3*x^5 - 45/8*x^4 + 25/2*x^3 - 45/2*x^2 + 15*x + 42"
      ]
     },
     "metadata": {},
     "output_type": "display_data"
    },
    {
     "data": {
      "image/png": "[encoded data removed]",
      "text/plain": [
       "Graphics object consisting of 2 graphics primitives"
      ]
     },
     "execution_count": 122,
     "metadata": {},
     "output_type": "execute_result"
    }
   ],
   "source": [
    "f2(x)=(3*x^5)-((45/8)*x^4)+((25/2)*x^3)-((45/2)*x^2)+(15*x)+42\n",
    "show(f2(x))\n",
    "affiche_min_locaux(f2)"
   ]
  },
  {
   "cell_type": "code",
   "execution_count": 123,
   "metadata": {},
   "outputs": [
    {
     "data": {
      "text/html": [
       "<html><script type=\"math/tex; mode=display\">\\newcommand{\\Bold}[1]{\\mathbf{#1}}-5 \\, x^{6} - 42 \\, x^{5} - 15 \\, x^{4} + 640 \\, x^{3} + 1440 \\, x^{2} - 32</script></html>"
      ],
      "text/latex": [
       "$$\\newcommand{\\Bold}[1]{\\mathbf{#1}}-5 \\, x^{6} - 42 \\, x^{5} - 15 \\, x^{4} + 640 \\, x^{3} + 1440 \\, x^{2} - 32$$"
      ],
      "text/plain": [
       "-5*x^6 - 42*x^5 - 15*x^4 + 640*x^3 + 1440*x^2 - 32"
      ]
     },
     "metadata": {},
     "output_type": "display_data"
    },
    {
     "data": {
      "image/png": "[encoded data removed]",
      "text/plain": [
       "Graphics object consisting of 2 graphics primitives"
      ]
     },
     "execution_count": 123,
     "metadata": {},
     "output_type": "execute_result"
    }
   ],
   "source": [
    "f3(x)=(-5*x^6)-(42*x^5)-(15*x^4)+(640*x^3)+(1440*x^2)-32\n",
    "show(f3(x))\n",
    "affiche_min_locaux(f3)"
   ]
  },
  {
   "cell_type": "code",
   "execution_count": 125,
   "metadata": {},
   "outputs": [
    {
     "data": {
      "text/html": [
       "<html><script type=\"math/tex; mode=display\">\\newcommand{\\Bold}[1]{\\mathbf{#1}}-x^{7} + \\frac{1}{3} \\, x^{6} - \\frac{7}{5} \\, x^{5} + \\frac{1}{2} \\, x^{4} - \\frac{7}{3} \\, x^{3} - \\frac{5}{2} \\, x^{2} + 2 \\, x</script></html>"
      ],
      "text/latex": [
       "$$\\newcommand{\\Bold}[1]{\\mathbf{#1}}-x^{7} + \\frac{1}{3} \\, x^{6} - \\frac{7}{5} \\, x^{5} + \\frac{1}{2} \\, x^{4} - \\frac{7}{3} \\, x^{3} - \\frac{5}{2} \\, x^{2} + 2 \\, x$$"
      ],
      "text/plain": [
       "-x^7 + 1/3*x^6 - 7/5*x^5 + 1/2*x^4 - 7/3*x^3 - 5/2*x^2 + 2*x"
      ]
     },
     "metadata": {},
     "output_type": "display_data"
    }
   ],
   "source": [
    "f4(x)=(-1*x^7)+((1/3)*𝑥^6)-((7/5)*x^5)+((1/2)*x^4)-((7/3)*x^3)-((5/2)*x^2)+2*x\n",
    "show(f4(x))\n",
    "#affiche_min_locaux(f4) \n",
    "#la on ne peut pas trouver de racines"
   ]
  },
  {
   "cell_type": "code",
   "execution_count": null,
   "metadata": {},
   "outputs": [],
   "source": []
  },
  {
   "cell_type": "code",
   "execution_count": 0,
   "metadata": {},
   "outputs": [],
   "source": []
  },
  {
   "cell_type": "code",
   "execution_count": 0,
   "metadata": {},
   "outputs": [],
   "source": []
  },
  {
   "cell_type": "code",
   "execution_count": 0,
   "metadata": {},
   "outputs": [],
   "source": []
  },
  {
   "cell_type": "markdown",
   "metadata": {
    "deletable": false,
    "editable": false,
    "run_control": {
     "frozen": true
    }
   },
   "source": [
    "Dans la suite du TP, nous allons voir des méthodes pour calculer une approximation numérique $\\overline{r}$ d'une racine $r$ d'une fonction à une précision voulue en réglant la taille possible de l'erreur $\\epsilon$ telle que $\\overline{r}=r + \\epsilon$."
   ]
  },
  {
   "cell_type": "markdown",
   "metadata": {
    "deletable": false,
    "editable": false,
    "run_control": {
     "frozen": true
    }
   },
   "source": [
    "## Dichotomie\n",
    "\n",
    "Cette méthode considère une fonction continue $f$ et un intervalle $[a,b]$ tel que $f(a)$ et $f(b)$ sont de signes différents ($f(a)\\times f(b)<0$). Comme $f$ est continue, il existe forcément un point $x\\in[a,b]$ tel que $f(x)=0$.\n",
    "A chaque étape la méthode divise l'intervalle de recherche par $2$ en choisissant le sous-intervalle contenant la racine (signes des évaluations des extrémités différents). \n",
    "\n",
    "Quand l'intervalle est plus petit que la précision voulue tout point de cet intervalle est alors une bonne approximation de la racine. La méthode devra s'arrêter avant si l'une des deux extrémités de l'intervalle est la racine."
   ]
  },
  {
   "cell_type": "markdown",
   "metadata": {
    "deletable": false,
    "editable": false,
    "run_control": {
     "frozen": true
    }
   },
   "source": [
    "### Question\n",
    " Ecrire un algorithme récursif `dicho_roots` qui prend en entrée une fonction continue $f$, les extrémités d'un intervalle de recherche $[a,b]$ et une précision $p<1$ et qui calcule par dichotomie une approximation numérique d'une racine de $f$ dans l'intervalle $[a,b]$ à la précision $p$. \n",
    "\n",
    "**Rappel:** si $p=0,01$ cela signifie que l'on veut que la racine soit correcte jusqu'au deuxième chiffre après la virgules. Autrement dit, on cherche un intervalle $[\\alpha, \\beta] \\subset [a,b]$ tel que $|\\beta-\\alpha|\\leq p$. \n",
    "\n",
    "**Attention**, pour que la méthode `dicho_roots` fonctionne, il faut que les calculs se fassent dans la précision désirée (on utilisera donc un `RealField` adéquat, qui a une précision en bit de $1+\\log_2(1/p)$).\n",
    "\n",
    "1. Utiliser votre algorithme pour calculer une approximation numérique des racines  des fonctions $f'$ et $h$ définies dans la partie précédente. *Vous utiliserez l'affichage des fonctions pour définir les intervalles de recherche de départ et vous prendrez une précision de calcul des float (soit $2^{-23}$)*\n",
    "1. Modifier votre algorithme pour qu'il renvoie aussi le nombre d'étapes (c'est à dire le nombre d'intervalles de recherches différents utilisés).\n",
    "1. Trouver un réel $a$ et un paramètre de précision $p$ permettant d'avoir des résultats plus précis avec la méthode `dicho_roots` qu'avec la méthode `find_root` sur les intervalles $[a+i,a+i+1], \\forall i \\in \\{0,1,2,3,4\\}$. "
   ]
  },
  {
   "cell_type": "code",
   "execution_count": 139,
   "metadata": {},
   "outputs": [
    {
     "data": {
      "text/html": [
       "<html><script type=\"math/tex; mode=display\">\\newcommand{\\Bold}[1]{\\mathbf{#1}}\\left(-0.31460, 22\\right)</script></html>"
      ],
      "text/latex": [
       "$$\\newcommand{\\Bold}[1]{\\mathbf{#1}}\\left(-0.31460, 22\\right)$$"
      ],
      "text/plain": [
       "(-0.31460, 22)"
      ]
     },
     "metadata": {},
     "output_type": "display_data"
    }
   ],
   "source": [
    "def dicho_roots(f,a,b,p,n=1):\n",
    "    R = RealField(1+log(1/p,2)) # ne pas oublier de faire log avec 2 paramètres, le deuxime étant la base du log\n",
    "    alpha=R(a)\n",
    "    beta=R(b)\n",
    "    dicho=(alpha+beta)/2\n",
    "    \n",
    "    if abs(beta-alpha)<=p:\n",
    "        return(dicho,n)\n",
    "    if f(alpha)==0:\n",
    "        return(alpha,n)\n",
    "    if f(beta)==0:\n",
    "        return(beta,n)\n",
    "    if f(dicho)==0:\n",
    "        return(dicho,n)\n",
    "    \n",
    "    if (f(alpha) * f(dicho) < 0):\n",
    "        return dicho_roots(f, alpha, dicho, p, n + 1)\n",
    "    if (f(dicho) * f(beta) < 0):\n",
    "        return dicho_roots(f, dicho,beta, p, n + 1)\n",
    "    raise ValueError(\"Ne passe pas par 0\")\n",
    "\n",
    "show(dicho_roots(f,-1,1,0.000001))\n",
    "        \n",
    "\n",
    "    "
   ]
  },
  {
   "cell_type": "code",
   "execution_count": 161,
   "metadata": {},
   "outputs": [
    {
     "data": {
      "text/html": [
       "<html><script type=\"math/tex; mode=display\">\\newcommand{\\Bold}[1]{\\mathbf{#1}}-0.9999999999999882</script></html>"
      ],
      "text/latex": [
       "$$\\newcommand{\\Bold}[1]{\\mathbf{#1}}-0.9999999999999882$$"
      ],
      "text/plain": [
       "-0.9999999999999882"
      ]
     },
     "metadata": {},
     "output_type": "display_data"
    },
    {
     "data": {
      "text/html": [
       "<html><script type=\"math/tex; mode=display\">\\newcommand{\\Bold}[1]{\\mathbf{#1}}\\left(-1.0, 1\\right)</script></html>"
      ],
      "text/latex": [
       "$$\\newcommand{\\Bold}[1]{\\mathbf{#1}}\\left(-1.0, 1\\right)$$"
      ],
      "text/plain": [
       "(-1.0, 1)"
      ]
     },
     "metadata": {},
     "output_type": "display_data"
    },
    {
     "data": {
      "text/html": [
       "<html><script type=\"math/tex; mode=display\">\\newcommand{\\Bold}[1]{\\mathbf{#1}}-2.2690246355019664 \\times 10^{-14}</script></html>"
      ],
      "text/latex": [
       "$$\\newcommand{\\Bold}[1]{\\mathbf{#1}}-2.2690246355019664 \\times 10^{-14}$$"
      ],
      "text/plain": [
       "-2.2690246355019664e-14"
      ]
     },
     "metadata": {},
     "output_type": "display_data"
    },
    {
     "data": {
      "text/html": [
       "<html><script type=\"math/tex; mode=display\">\\newcommand{\\Bold}[1]{\\mathbf{#1}}\\left(0.00, 1\\right)</script></html>"
      ],
      "text/latex": [
       "$$\\newcommand{\\Bold}[1]{\\mathbf{#1}}\\left(0.00, 1\\right)$$"
      ],
      "text/plain": [
       "(0.00, 1)"
      ]
     },
     "metadata": {},
     "output_type": "display_data"
    },
    {
     "data": {
      "text/html": [
       "<html><script type=\"math/tex; mode=display\">\\newcommand{\\Bold}[1]{\\mathbf{#1}}1.0</script></html>"
      ],
      "text/latex": [
       "$$\\newcommand{\\Bold}[1]{\\mathbf{#1}}1.0$$"
      ],
      "text/plain": [
       "1.0"
      ]
     },
     "metadata": {},
     "output_type": "display_data"
    },
    {
     "data": {
      "text/html": [
       "<html><script type=\"math/tex; mode=display\">\\newcommand{\\Bold}[1]{\\mathbf{#1}}\\left(1.0, 1\\right)</script></html>"
      ],
      "text/latex": [
       "$$\\newcommand{\\Bold}[1]{\\mathbf{#1}}\\left(1.0, 1\\right)$$"
      ],
      "text/plain": [
       "(1.0, 1)"
      ]
     },
     "metadata": {},
     "output_type": "display_data"
    },
    {
     "data": {
      "text/html": [
       "<html><script type=\"math/tex; mode=display\">\\newcommand{\\Bold}[1]{\\mathbf{#1}}2.000000000000022</script></html>"
      ],
      "text/latex": [
       "$$\\newcommand{\\Bold}[1]{\\mathbf{#1}}2.000000000000022$$"
      ],
      "text/plain": [
       "2.000000000000022"
      ]
     },
     "metadata": {},
     "output_type": "display_data"
    },
    {
     "data": {
      "text/html": [
       "<html><script type=\"math/tex; mode=display\">\\newcommand{\\Bold}[1]{\\mathbf{#1}}\\left(2.0, 1\\right)</script></html>"
      ],
      "text/latex": [
       "$$\\newcommand{\\Bold}[1]{\\mathbf{#1}}\\left(2.0, 1\\right)$$"
      ],
      "text/plain": [
       "(2.0, 1)"
      ]
     },
     "metadata": {},
     "output_type": "display_data"
    },
    {
     "data": {
      "text/html": [
       "<html><script type=\"math/tex; mode=display\">\\newcommand{\\Bold}[1]{\\mathbf{#1}}2.999999999999989</script></html>"
      ],
      "text/latex": [
       "$$\\newcommand{\\Bold}[1]{\\mathbf{#1}}2.999999999999989$$"
      ],
      "text/plain": [
       "2.999999999999989"
      ]
     },
     "metadata": {},
     "output_type": "display_data"
    },
    {
     "data": {
      "text/html": [
       "<html><script type=\"math/tex; mode=display\">\\newcommand{\\Bold}[1]{\\mathbf{#1}}\\left(3.0, 6\\right)</script></html>"
      ],
      "text/latex": [
       "$$\\newcommand{\\Bold}[1]{\\mathbf{#1}}\\left(3.0, 6\\right)$$"
      ],
      "text/plain": [
       "(3.0, 6)"
      ]
     },
     "metadata": {},
     "output_type": "display_data"
    }
   ],
   "source": [
    "a=-1.5\n",
    "p=0.001\n",
    "for i in {0,1,2,3,4}:\n",
    "    show(find_root(df,a+i,a+i+1))\n",
    "    show(dicho_roots(df,a+i,a+i+1,p))\n",
    "    "
   ]
  },
  {
   "cell_type": "code",
   "execution_count": 0,
   "metadata": {},
   "outputs": [],
   "source": []
  },
  {
   "cell_type": "code",
   "execution_count": 0,
   "metadata": {},
   "outputs": [],
   "source": []
  },
  {
   "cell_type": "markdown",
   "metadata": {
    "deletable": false,
    "editable": false,
    "run_control": {
     "frozen": true
    }
   },
   "source": [
    "## Fausse position\n",
    "\n",
    "Pour cette méthode plutôt que de diviser systématiquement l'intervalle $[a,b]$ en deux, on utilise les valeurs de la fonction $f$ pour couper l'intervalle. En particulier, on coupe l'intervalle en un point $m$ qui est à l'intersection de l'axe des abscisses et de la droite qui passe par les point $(a,f(a))$ et $(b,f(b))$\n",
    "\n",
    "La même règle des signes permet de déterminer dans quel intervalle ($[a,m]$ ou $[m,b]$) se trouve une racine."
   ]
  },
  {
   "cell_type": "markdown",
   "metadata": {
    "deletable": false,
    "editable": false,
    "run_control": {
     "frozen": true
    }
   },
   "source": [
    "### Question\n",
    "1. Sachant qu'une droite est une fonction de la forme $d(x)=\\alpha x + \\beta$. Donner une fonction qui calcule la droite passant par des points $p_1=(x_1,y_1)$ et $p_2=(x_2,y_2)$.\n",
    "1. Pour $a=-0.8$, $b=0.8$ et la fonction $f'$ calculer la droite $d$ passant par $(a,f'(a))$ et $(b,f'(b))$.\n",
    "1. Déterminer le point $m$ où la droite $d(x)$ vaut $0$ et calculer $f'(m)$. Grâce à la règle des signes déterminer dans quel sous-intervalle de $[a,m]$ ou $[m,b]$ se trouve une une racine de $f'$.\n",
    "1. Représenter graphiquement ces différentes étapes (la fonction sur $[a,b]$, la droite, le point $m$, $f'(m)$ et le nouvel intervalle). *Utiliser des couleurs pour faciliter la lecture des graphiques.*\n",
    "1. Réduiser une fois de plus l'intervalle et compléter le graphique."
   ]
  },
  {
   "cell_type": "code",
   "execution_count": 0,
   "metadata": {},
   "outputs": [],
   "source": []
  },
  {
   "cell_type": "code",
   "execution_count": 0,
   "metadata": {},
   "outputs": [],
   "source": []
  },
  {
   "cell_type": "code",
   "execution_count": 0,
   "metadata": {},
   "outputs": [],
   "source": []
  },
  {
   "cell_type": "code",
   "execution_count": 0,
   "metadata": {},
   "outputs": [],
   "source": []
  },
  {
   "cell_type": "code",
   "execution_count": 0,
   "metadata": {},
   "outputs": [],
   "source": []
  },
  {
   "cell_type": "code",
   "execution_count": 0,
   "metadata": {},
   "outputs": [],
   "source": []
  },
  {
   "cell_type": "code",
   "execution_count": 0,
   "metadata": {},
   "outputs": [],
   "source": []
  },
  {
   "cell_type": "markdown",
   "metadata": {
    "deletable": false,
    "editable": false,
    "run_control": {
     "frozen": true
    }
   },
   "source": [
    "###  Question\n",
    "1. Ecrire un algorithme récursif `fausse_position_roots` qui prend en entrée une fonction continue $f$, les extrémités d'un intervalle $[a,b]$ de recherche et une précision $p$ et qui calcule par la fausse position une approximation numérique d'une racine de $f$ dans $[a,b]$ à la précision $p$.\n",
    "1. Utiliser votre algorithme pour calculer une approximation numérique des racines  des fonctions $f'$ et $h$.\n",
    "1. Modifier votre algorithme pour qu'il renvoie aussi le nombre d'intervalles de recherches différents utilisés.\n",
    "1. Comparer le nombre d'étapes des deux méthodes dichotomie et fausse position en cherchant sur le même intervalle $[a+i,a+i+1], \\forall i \\in \\{0,1,2,3,4\\}$ avec $a=-1.3$ et la même précision $p=2^{-20}$. Refaite le calcul avec $a= -1.00000001$. À votre avis quelle est la meilleure méthode."
   ]
  },
  {
   "cell_type": "code",
   "execution_count": 0,
   "metadata": {},
   "outputs": [],
   "source": []
  },
  {
   "cell_type": "code",
   "execution_count": 0,
   "metadata": {},
   "outputs": [],
   "source": []
  },
  {
   "cell_type": "code",
   "execution_count": 0,
   "metadata": {},
   "outputs": [],
   "source": []
  },
  {
   "cell_type": "code",
   "execution_count": 0,
   "metadata": {},
   "outputs": [],
   "source": []
  },
  {
   "cell_type": "code",
   "execution_count": 0,
   "metadata": {},
   "outputs": [],
   "source": []
  },
  {
   "cell_type": "markdown",
   "metadata": {
    "deletable": false,
    "editable": false,
    "run_control": {
     "frozen": true
    }
   },
   "source": [
    "## Méthode de Newton\n",
    "Dans la méthode de la fausse position la fonction est approchée par une droite passant par les deux points aux extrémités de l'intervalle.\n",
    "Dans la méthode de Newton, la fonction est approchée par sa tangente.\n",
    "Cependant, cette fois-ci la progression ne se fait pas d'intervalle en intervalle mais de point en point. Autrement dit, on va partir d'une approximation très grossière de notre racine et on va l'affiner au fur et à mesure des étapes. En partant d'un point $a$, le point suivant est donné par le zéro de la tangente en $a$. Quand l'écart entre deux points consécutifs est inférieur à la précision, on peut renvoyer le dernier point calculé."
   ]
  },
  {
   "cell_type": "markdown",
   "metadata": {
    "deletable": false,
    "editable": false,
    "run_control": {
     "frozen": true
    }
   },
   "source": [
    "### Question\n",
    "1. Ecrire une fonction calculant la tangente à une fonction $g$ en un point $a$. *Il s'agit de la droite passant par le point $(a,g(a))$ et de pente $g'(a)$.* \n",
    ">Vous vérifierez votre code pour la fonction $x\\mapsto x^2-2x+8$ dont la tangente en $x=3$ correspond à la fonction $x \\mapsto 4x-1$\n",
    "1. Pour la fonction $h$, avec $a=-1.2$, calculer la tangente $T_a(x)$ à $h(x)$ en $a$ et représenter sur un même graphique $h(x)$ et $T_a(x)$.\n",
    "1. Trouver le point $x_a$ tel que $T_a(x_a)=0$ et calculer la tangente à $h(x)$ en ce point $x_a$. Compléter le graphique. *Le zéro peut aussi être calculer directement sans calculer la tangente*\n",
    "1. Reproduire cette étape jusqu'à avoir visuellement l'impression qu'une tangente et la courbe ont le même zéro."
   ]
  },
  {
   "cell_type": "code",
   "execution_count": 0,
   "metadata": {},
   "outputs": [],
   "source": []
  },
  {
   "cell_type": "code",
   "execution_count": 0,
   "metadata": {},
   "outputs": [],
   "source": []
  },
  {
   "cell_type": "code",
   "execution_count": 0,
   "metadata": {},
   "outputs": [],
   "source": []
  },
  {
   "cell_type": "code",
   "execution_count": 0,
   "metadata": {},
   "outputs": [],
   "source": []
  },
  {
   "cell_type": "code",
   "execution_count": 0,
   "metadata": {},
   "outputs": [],
   "source": []
  },
  {
   "cell_type": "code",
   "execution_count": 0,
   "metadata": {},
   "outputs": [],
   "source": []
  },
  {
   "cell_type": "markdown",
   "metadata": {
    "deletable": false,
    "editable": false,
    "run_control": {
     "frozen": true
    }
   },
   "source": [
    "### Question\n",
    "1. Ecrire un algorithme qui applique la méthode de Newton pour renvoyer une racine d'une fonction dérivable $f$. Votre algorithme prendra en entrée la fonction $f$ ainsi qu'un point de départ $a$ (proche d'une racine) et une précision $p$.\n",
    "1. Utiliser votre algorithme sur les fonctions $f'$ et $h$ avec différents points de départ pour trouver toutes leurs racines.\n",
    "1. Ajouter un compteur permettant de connaitre le nombre de points calculés. Comparer cette méthode avec les deux précédentes sur la fonction $h$ en prenant comme départ $a=-1.2$ et $b=0$. Laquelle arrive à une précision donnée le plus rapidement?"
   ]
  },
  {
   "cell_type": "code",
   "execution_count": 0,
   "metadata": {},
   "outputs": [],
   "source": []
  },
  {
   "cell_type": "code",
   "execution_count": 0,
   "metadata": {},
   "outputs": [],
   "source": []
  },
  {
   "cell_type": "code",
   "execution_count": 0,
   "metadata": {},
   "outputs": [],
   "source": []
  },
  {
   "cell_type": "code",
   "execution_count": 0,
   "metadata": {},
   "outputs": [],
   "source": []
  },
  {
   "cell_type": "code",
   "execution_count": 0,
   "metadata": {},
   "outputs": [],
   "source": []
  },
  {
   "cell_type": "code",
   "execution_count": 0,
   "metadata": {},
   "outputs": [],
   "source": []
  }
 ],
 "metadata": {
  "kernelspec": {
   "display_name": "SageMath 9.5",
   "language": "sage",
   "name": "sagemath"
  },
  "language_info": {
   "codemirror_mode": {
    "name": "ipython",
    "version": 3
   },
   "file_extension": ".py",
   "mimetype": "text/x-python",
   "name": "python",
   "nbconvert_exporter": "python",
   "pygments_lexer": "ipython3",
   "version": "3.10.12"
  },
  "toc": {
   "base_numbering": 1,
   "nav_menu": {},
   "number_sections": true,
   "sideBar": true,
   "skip_h1_title": true,
   "title_cell": "Table of Contents",
   "title_sidebar": "Contents",
   "toc_cell": false,
   "toc_position": {
    "height": "calc(100% - 180px)",
    "left": "10px",
    "top": "150px",
    "width": "176.197922px"
   },
   "toc_section_display": true,
   "toc_window_display": true
  },
  "varInspector": {
   "cols": {
    "lenName": 16,
    "lenType": 16,
    "lenVar": 40
   },
   "kernels_config": {
    "python": {
     "delete_cmd_postfix": "",
     "delete_cmd_prefix": "del ",
     "library": "var_list.py",
     "varRefreshCmd": "print(var_dic_list())"
    },
    "r": {
     "delete_cmd_postfix": ") ",
     "delete_cmd_prefix": "rm(",
     "library": "var_list.r",
     "varRefreshCmd": "cat(var_dic_list()) "
    }
   },
   "types_to_exclude": [
    "module",
    "function",
    "builtin_function_or_method",
    "instance",
    "_Feature"
   ],
   "window_display": false
  }
 },
 "nbformat": 4,
 "nbformat_minor": 2
}
