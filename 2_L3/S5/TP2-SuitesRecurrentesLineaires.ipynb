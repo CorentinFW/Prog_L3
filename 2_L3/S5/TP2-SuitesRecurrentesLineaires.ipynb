{
 "cells": [
  {
   "cell_type": "markdown",
   "metadata": {
    "deletable": false,
    "editable": false,
    "run_control": {
     "frozen": true
    }
   },
   "source": [
    "# Suites récurrentes linéaires à coefficients constants\n",
    "\n",
    "L'objectif de ce TP est de découvrir comment utiliser SageMath pour étudier des suites définies par récurrence. Un exemple parmi d'autres est la célèbre suite de Fibonacci. La complexité des algorithmes récursifs, définie par une équation de récurrence, est un autre exemple très fréquent. Savoir étudier ces suites est très utile en informatique.\n",
    "\n",
    "Le sujet présente des aspects numériques (calculer les termes), graphiques (représenter la suite), symboliques (trouver une formule), etc.\n",
    "\n",
    "On commence par l'étude des approches possibles pour la suite de Fibonacci, puis on généralise pour les suites récurrentes linéaires à coefficients constants, c'est-à-dire de suites $(u_n)_n$ définies par\n",
    "$$ u_{n+k} = a_0u_n + a_1u_{n+1} + \\dotsb + a_{k-1}u_{n+k-1}.$$\n",
    "\n",
    "L'objectif général de ce TP sera d'essayer de trouver des formules fonctionnelles pour ces suites récurrentes, c'est-à-dire qu'il existe une formule non-récursive pour exprimer un des termes de la suite."
   ]
  },
  {
   "cell_type": "markdown",
   "metadata": {
    "deletable": false,
    "editable": false,
    "run_control": {
     "frozen": true
    }
   },
   "source": [
    "## Étude numérique de la suite de Fibonacci\n",
    "On définit la suite de Fibonacci $(F_n)$ par $F_0 = 0$, $F_1 = 1$ et $F_{n+2} = F_{n+1} + F_n$."
   ]
  },
  {
   "cell_type": "markdown",
   "metadata": {
    "deletable": false,
    "editable": false,
    "run_control": {
     "frozen": true
    }
   },
   "source": [
    "### Question\n",
    "1. Écrire une fonction **récursive** `fibonacci` qui calcule le $n$-ème terme de la suite de Fibonacci directement grâce à la formule précédente.\n",
    "1. Calculer les dix premiers termes. \n",
    "1. Essayer de calculer le 100-ème terme : expliquer."
   ]
  },
  {
   "cell_type": "code",
   "execution_count": 1,
   "metadata": {},
   "outputs": [],
   "source": [
    "def fibonacci(n):\n",
    "    if n>99:\n",
    "        return -1\n",
    "    elif n<=1:\n",
    "        return n\n",
    "    else:\n",
    "        return fibonacci(n-1)+fibonacci(n-2)"
   ]
  },
  {
   "cell_type": "code",
   "execution_count": 2,
   "metadata": {},
   "outputs": [
    {
     "data": {
      "text/plain": [
       "[0, 1, 1, 2, 3, 5, 8, 13, 21, 34]"
      ]
     },
     "execution_count": 2,
     "metadata": {},
     "output_type": "execute_result"
    }
   ],
   "source": [
    "LiFi=[]\n",
    "for i in range(10):\n",
    "    LiFi.append(fibonacci(i))\n",
    "LiFi"
   ]
  },
  {
   "cell_type": "code",
   "execution_count": 4,
   "metadata": {},
   "outputs": [
    {
     "data": {
      "text/html": [
       "<html><script type=\"math/tex; mode=display\">\\newcommand{\\Bold}[1]{\\mathbf{#1}}-1</script></html>"
      ],
      "text/latex": [
       "$$\\newcommand{\\Bold}[1]{\\mathbf{#1}}-1$$"
      ],
      "text/plain": [
       "-1"
      ]
     },
     "metadata": {},
     "output_type": "display_data"
    },
    {
     "data": {
      "text/plain": [
       "\"Si la fonction retourne -1, c'est que n est trop grand et dépasse le nombre maximum de récursion\""
      ]
     },
     "execution_count": 4,
     "metadata": {},
     "output_type": "execute_result"
    }
   ],
   "source": [
    "show(fibonacci(100))\n",
    "\"Si la fonction retourne -1, c'est que n est trop grand et dépasse le nombre maximum de récursion\""
   ]
  },
  {
   "cell_type": "markdown",
   "metadata": {
    "deletable": false,
    "editable": false,
    "run_control": {
     "frozen": true
    }
   },
   "source": [
    "### Question\n",
    "1. Réécrire la fonction `fibonacci` de manière itérative pour calculer rapidement le $n$-ème terme. Cela ne sert à rien d'utiliser la formule de Binet.\n",
    "1. Tester avec $n = 100$, $1000$, $10000$.\n",
    "1. Trouver approximativement la valeur $n$ pour laquelle le calcul de $F_n$ prend environ 1 seconde. Ne pas afficher la valeur de $F_n$ mais son nombre de chiffres (avec la méthode `ndigits` des entiers). *On peut utiliser `%time` pour mesurer le temps de calcul.*"
   ]
  },
  {
   "cell_type": "code",
   "execution_count": 5,
   "metadata": {},
   "outputs": [],
   "source": [
    "def fiboIter(n):\n",
    "    L=[0,1]\n",
    "    for i in range(2,n+1):\n",
    "        L.append(L[i-1]+L[i-2])\n",
    "    return L[n]"
   ]
  },
  {
   "cell_type": "code",
   "execution_count": 6,
   "metadata": {},
   "outputs": [
    {
     "data": {
      "text/plain": [
       "(354224848179261915075,\n",
       " 43466557686937456435688527675040625802564660517371780402481729089536555417949051890403879840079255169295922593080322634775209689623239873322471161642996440906533187938298969649928516003704476137795166849228875,\n",
       " 33644764876431783266621612005107543310302148460680063906564769974680081442166662368155595513633734025582065332680836159373734790483865268263040892463056431887354544369559827491606602099884183933864652731300088830269235673613135117579297437854413752130520504347701602264758318906527890855154366159582987279682987510631200575428783453215515103870818298969791613127856265033195487140214287532698187962046936097879900350962302291026368131493195275630227837628441540360584402572114334961180023091208287046088923962328835461505776583271252546093591128203925285393434620904245248929403901706233888991085841065183173360437470737908552631764325733993712871937587746897479926305837065742830161637408969178426378624212835258112820516370298089332099905707920064367426202389783111470054074998459250360633560933883831923386783056136435351892133279732908133732642652633989763922723407882928177953580570993691049175470808931841056146322338217465637321248226383092103297701648054726243842374862411453093812206564914032751086643394517512161526545361333111314042436854805106765843493523836959653428071768775328348234345557366719731392746273629108210679280784718035329131176778924659089938635459327894523777674406192240337638674004021330343297496902028328145933418826817683893072003634795623117103101291953169794607632737589253530772552375943788434504067715555779056450443016640119462580972216729758615026968443146952034614932291105970676243268515992834709891284706740862008587135016260312071903172086094081298321581077282076353186624611278245537208532365305775956430072517744315051539600905168603220349163222640885248852433158051534849622434848299380905070483482449327453732624567755879089187190803662058009594743150052402532709746995318770724376825907419939632265984147498193609285223945039707165443156421328157688908058783183404917434556270520223564846495196112460268313970975069382648706613264507665074611512677522748621598642530711298441182622661057163515069260029861704945425047491378115154139941550671256271197133252763631939606902895650288268608362241082050562430701794976171121233066073310059947366875)"
      ]
     },
     "execution_count": 6,
     "metadata": {},
     "output_type": "execute_result"
    }
   ],
   "source": [
    "test1=fiboIter(100)\n",
    "test2=fiboIter(1000)\n",
    "test3=fiboIter(10000)\n",
    "\n",
    "test1,test2,test3"
   ]
  },
  {
   "cell_type": "code",
   "execution_count": 11,
   "metadata": {},
   "outputs": [
    {
     "name": "stdout",
     "output_type": "stream",
     "text": [
      "CPU times: user 790 ms, sys: 294 ms, total: 1.08 s\n",
      "Wall time: 1.08 s\n"
     ]
    },
    {
     "data": {
      "text/plain": [
       "62696"
      ]
     },
     "execution_count": 11,
     "metadata": {},
     "output_type": "execute_result"
    }
   ],
   "source": [
    "%time fn=fiboIter(300000)\n",
    "\n",
    "fn.ndigits()"
   ]
  },
  {
   "cell_type": "code",
   "execution_count": null,
   "metadata": {},
   "outputs": [],
   "source": []
  },
  {
   "cell_type": "markdown",
   "metadata": {
    "deletable": false,
    "editable": false,
    "run_control": {
     "frozen": true
    }
   },
   "source": [
    "### Question\n",
    "1. Écrire une fonction `liste_fibonacci` qui prend en entrée $n$ et calcule la liste des $F_k$ pour tout $k < n$. _**Ne pas** utiliser la fonction `fibonacci` !_\n",
    "1. En utilisant `list_plot`, représenter les 100 premiers termes de la suite de Fibonacci."
   ]
  },
  {
   "cell_type": "code",
   "execution_count": 45,
   "metadata": {},
   "outputs": [
    {
     "data": {
      "text/plain": [
       "[0, 1, 1, 2, 3, 5, 8, 13, 21, 34]"
      ]
     },
     "execution_count": 45,
     "metadata": {},
     "output_type": "execute_result"
    }
   ],
   "source": [
    "def liste_fibonacci(n):\n",
    "    if n==0:\n",
    "        L=[]\n",
    "    elif n==1:\n",
    "        L=[0]\n",
    "    else:\n",
    "        L=[0,1]\n",
    "        for i in range(2,n):\n",
    "            L.append(L[i-1]+L[i-2])\n",
    "    return L\n",
    "\n",
    "liste_fibonacci(10)"
   ]
  },
  {
   "cell_type": "code",
   "execution_count": 38,
   "metadata": {},
   "outputs": [
    {
     "data": {
      "image/png": "[encoded data removed]",
      "text/plain": [
       "Graphics object consisting of 1 graphics primitive"
      ]
     },
     "execution_count": 38,
     "metadata": {},
     "output_type": "execute_result"
    }
   ],
   "source": [
    "list_plot(liste_fibonacci(100))"
   ]
  },
  {
   "cell_type": "code",
   "execution_count": null,
   "metadata": {},
   "outputs": [],
   "source": []
  },
  {
   "cell_type": "markdown",
   "metadata": {
    "deletable": false,
    "editable": false,
    "run_control": {
     "frozen": true
    }
   },
   "source": [
    "### Question\n",
    "1. Calculer la liste des valeurs $L_k = \\log_2(F_k)$ pour $0 < k < 1000$. **Attention** pensez bien à enlever le premier élément de la suite  car $\\log_2(F_0)$ n'est pas défini. \n",
    "1. Représenter graphiquement ces valeurs. Que peut-on conjecturer sur la fonction associée: $x \\mapsto \\log_2(Fibonacci(x))$"
   ]
  },
  {
   "cell_type": "code",
   "execution_count": 52,
   "metadata": {},
   "outputs": [],
   "source": [
    "def liste_log_fibo(n):\n",
    "    Li=liste_fibonacci(n+1)\n",
    "    L=[]\n",
    "    for i in range(1,n):\n",
    "        L.append(log(Li[i],2))\n",
    "    return L\n"
   ]
  },
  {
   "cell_type": "code",
   "execution_count": 53,
   "metadata": {},
   "outputs": [],
   "source": [
    "Ln=liste_log_fibo(1000)"
   ]
  },
  {
   "cell_type": "code",
   "execution_count": 54,
   "metadata": {},
   "outputs": [
    {
     "data": {
      "image/png": "[encoded data removed]",
      "text/plain": [
       "Graphics object consisting of 1 graphics primitive"
      ]
     },
     "execution_count": 54,
     "metadata": {},
     "output_type": "execute_result"
    }
   ],
   "source": [
    "list_plot(Ln)"
   ]
  },
  {
   "cell_type": "markdown",
   "metadata": {
    "deletable": false,
    "editable": false,
    "run_control": {
     "frozen": true
    }
   },
   "source": [
    "### Question\n",
    "La fonction `find_fit` permet de calculer (une approximation de) la fonction définie par les valeurs calculées. Pour cela, on définit un *modèle*, qui est la forme de la fonction voulue : ici on prend une fonction linéaire $f(x) = ax+b$ où $a$ et $b$ sont des inconnues. Ensuite on fournit un ensemble de couples $(x_i,y_i)$ et le modèle à `find_fit`, qui cherche alors les valeurs de $a$ et $b$ qui fournissent la meilleure solution aux équations $y_i = f(x_i)$, dans notre cas $y_i= ax_i+b$.\n",
    "1. Définir les variables symboliques `x`, `a` et `b` et la fonction symbolique $f(x) = ax+b$. \n",
    "1. Définir la liste $E=[ (x, \\log_2(Fibonacci(x))]$ pour $x$ de 1 à 1000.\n",
    "1. Appliquer la fonction `find_fit` à $E$ et $f$ pour trouver les valeurs de $a$ et $b$. Vous devriez obtenir quelques chose de l'odre de `a=0.69424`, `b=-1.1598`.\n",
    "\n"
   ]
  },
  {
   "cell_type": "code",
   "execution_count": 55,
   "metadata": {},
   "outputs": [],
   "source": [
    "var('x a b')\n",
    "f(x)=a*x+b"
   ]
  },
  {
   "cell_type": "code",
   "execution_count": 58,
   "metadata": {},
   "outputs": [],
   "source": [
    "Li=liste_log_fibo(1001)\n",
    "E=[(x+1,Li[x]) for x in range(0,1000)]"
   ]
  },
  {
   "cell_type": "code",
   "execution_count": 59,
   "metadata": {
    "scrolled": false
   },
   "outputs": [
    {
     "data": {
      "text/plain": [
       "(a == 0.6942401448136483, b == -1.159783922770796)"
      ]
     },
     "execution_count": 59,
     "metadata": {},
     "output_type": "execute_result"
    }
   ],
   "source": [
    "a,b= find_fit(E,f)\n",
    "\n",
    "a,b"
   ]
  },
  {
   "cell_type": "code",
   "execution_count": 89,
   "metadata": {},
   "outputs": [],
   "source": []
  },
  {
   "cell_type": "markdown",
   "metadata": {
    "deletable": false,
    "editable": false,
    "run_control": {
     "frozen": true
    }
   },
   "source": [
    "### Question\n",
    "1. Récupérer les valeurs des coefficients `a` et `b` calculés : `expr.rhs()` fournit le terme de droite d'une égalité (*right-hand side*).\n",
    "2. Définir une fonction symbolique $F(x)$ qui approche la suite de Fibonacci pour les valeurs entières de $x$. *Chercher à donner l'expression la plus simple possible pour $F$. Attention: a et b ont été calculés à partir du logarithme des valeurs de Fibonacci.* Vous vérifierez votre fonction sur les 15 premières valeurs:\n",
    "`[F(n).round() for n in range(1,15)] == liste_fibonacci(15)[1:]` \n",
    "\n",
    "3. Représenter graphiquement $F$ et la suite de Fibonacci pour comparer de manière plus visible. *Utiliser des couleurs différentes.* Normalement, les points doivent apparaitre sur la courbe."
   ]
  },
  {
   "cell_type": "code",
   "execution_count": 61,
   "metadata": {},
   "outputs": [
    {
     "data": {
      "text/plain": [
       "(0.6942401448136483, -1.159783922770796)"
      ]
     },
     "execution_count": 61,
     "metadata": {},
     "output_type": "execute_result"
    }
   ],
   "source": [
    "a2=a.rhs()\n",
    "b2=b.rhs()\n",
    "\n",
    "a2,b2"
   ]
  },
  {
   "cell_type": "code",
   "execution_count": 74,
   "metadata": {},
   "outputs": [],
   "source": [
    "F(x)=2**(a2*x+b2)"
   ]
  },
  {
   "cell_type": "code",
   "execution_count": 75,
   "metadata": {},
   "outputs": [
    {
     "data": {
      "text/plain": [
       "True"
      ]
     },
     "execution_count": 75,
     "metadata": {},
     "output_type": "execute_result"
    }
   ],
   "source": [
    "test=[F(n).round() for n in range(1,15)] == liste_fibonacci(15)[1:]\n",
    "test"
   ]
  },
  {
   "cell_type": "code",
   "execution_count": 109,
   "metadata": {},
   "outputs": [
    {
     "data": {
      "image/png": "[encoded data removed]",
      "text/plain": [
       "Graphics object consisting of 2 graphics primitives"
      ]
     },
     "execution_count": 109,
     "metadata": {},
     "output_type": "execute_result"
    }
   ],
   "source": [
    "listef=liste_fibonacci(20)\n",
    "\n",
    "\n",
    "list_plot(listef,color='red') +\\\n",
    "plot(F,1,20,color='blue')\n"
   ]
  },
  {
   "cell_type": "markdown",
   "metadata": {
    "deletable": false,
    "editable": false,
    "run_control": {
     "frozen": true
    }
   },
   "source": [
    "## Calcul exact de la suite de Fibonacci\n",
    "Dans la première partie, on a vu comment trouver une fonction qui permettait d'approcher très finement la suite de Fibonacci. On cherche maintenant une expression la plus exacte possible de $F_n$ en fonction de $n$, toujours en utilisant les capacités de calcul de SageMath."
   ]
  },
  {
   "cell_type": "markdown",
   "metadata": {
    "deletable": false,
    "editable": false,
    "run_control": {
     "frozen": true
    }
   },
   "source": [
    "### Question\n",
    "On a vu que $F_n$ a une croissance exponentielle. Pour trouver une formule pour $F_n$, on commence par chercher les valeurs de $\\alpha$ telles que $\\alpha^n$ satisfasse l'équation de récurrence de $F_n$, sans s'occuper des cas de base.\n",
    "1. Définir les variables $n$ et $\\alpha$, et définir l'équation, que vous nommerez `eq`, qu'on souhaite résoudre sur $\\alpha$.\n",
    "2. Utiliser `solve` pour trouver les solutions de l'équation `eq` en fonction de $\\alpha$. *Si nécessaire, aider SageMath en écrivant l'équation sous la forme `... == 0`, et en factorisant l'équation à l'aide de `factor` avant de demander la résolution.*\n",
    "3. Vérifier de manière symbolique que $\\alpha^n$ satisfait bien l'équation de récurrence, pour chacune des solutions $\\alpha$ trouvées (il y en a 3). *Pour forcer SageMath à vérifier une équation, on peut utiliser `bool(...)`.*"
   ]
  },
  {
   "cell_type": "code",
   "execution_count": 118,
   "metadata": {},
   "outputs": [
    {
     "data": {
      "text/plain": [
       "alpha^(n + 2) - alpha^(n + 1) - alpha^n == 0"
      ]
     },
     "execution_count": 118,
     "metadata": {},
     "output_type": "execute_result"
    }
   ],
   "source": [
    "var('n alpha')\n",
    "\n",
    "eq=alpha^(n+2)-alpha^(n+1)-alpha^n==0\n",
    "eq"
   ]
  },
  {
   "cell_type": "code",
   "execution_count": 121,
   "metadata": {},
   "outputs": [
    {
     "data": {
      "text/plain": [
       "(alpha^2 - alpha - 1)*alpha^n == 0"
      ]
     },
     "execution_count": 121,
     "metadata": {},
     "output_type": "execute_result"
    }
   ],
   "source": [
    "eq=eq.factor()\n",
    "eq"
   ]
  },
  {
   "cell_type": "code",
   "execution_count": 123,
   "metadata": {},
   "outputs": [
    {
     "data": {
      "text/plain": [
       "[alpha == -1/2*sqrt(5) + 1/2, alpha == 1/2*sqrt(5) + 1/2, alpha == 0]"
      ]
     },
     "execution_count": 123,
     "metadata": {},
     "output_type": "execute_result"
    }
   ],
   "source": [
    "solF=solve(eq,alpha)\n",
    "solF"
   ]
  },
  {
   "cell_type": "code",
   "execution_count": 127,
   "metadata": {},
   "outputs": [
    {
     "data": {
      "text/plain": [
       "(True, True, True)"
      ]
     },
     "execution_count": 127,
     "metadata": {},
     "output_type": "execute_result"
    }
   ],
   "source": [
    "a1=-1/2*sqrt(5)+1/2\n",
    "a2=1/2*sqrt(5)+1/2\n",
    "a3=0\n",
    "\n",
    "bool(eq.subs(alpha=a1)),bool(eq.subs(alpha=a2)),bool(eq.subs(alpha=a3))"
   ]
  },
  {
   "cell_type": "markdown",
   "metadata": {
    "deletable": false,
    "editable": false,
    "run_control": {
     "frozen": true
    }
   },
   "source": [
    "### Question\n",
    "On a trouvé trois solutions $\\alpha_i$ qui satisfont l'équation de récurrence, mais sans faire attention aux conditions initiales. En effet, les $\\alpha_i$ vérifient tous l'équation de récurrence ($\\alpha_i^{n+2} = \\alpha_i^{n+1}+\\alpha_i^{n})$ mais on doit vérfier si ces $\\alpha_i$ valident aussi les valeurs initiales de la suite, i.e. $F_0=\\alpha_i^0=0$ et $F_1=\\alpha_i^1=1$.\n",
    "1. Est-ce que l'une des solutions $\\alpha_i$ satisfait les conditions initiales de la suite de Fibonacci ?\n",
    "2. Vérifier que si on a deux solutions $\\alpha_1^n$ et $\\alpha_2^n$, alors toute *combinaison linéaire* de ces deux solutions satisfait l'équation de récurrence. *Pour cela, définir des variables symboliques $c_1$ et $c_2$ et vérifier que $c_1\\alpha_1^n+c_2\\alpha_2^n$ satisfait la récurrence.*\n",
    "3. On cherche $c_1$ et $c_2$ telles que $c_1\\alpha_1^n+c_2\\alpha_2^n$ satisfasse les conditions initiales. Écrire l'équation correspondante et la résoudre à l'aide de `solve`. **Attention** les inconnus à trouver sont $c_1$ et $c_2$."
   ]
  },
  {
   "cell_type": "code",
   "execution_count": 131,
   "metadata": {},
   "outputs": [
    {
     "data": {
      "text/plain": [
       "(1, 1, 1)"
      ]
     },
     "execution_count": 131,
     "metadata": {},
     "output_type": "execute_result"
    }
   ],
   "source": [
    "a1^0,a2^0,a3^0\n"
   ]
  },
  {
   "cell_type": "code",
   "execution_count": 132,
   "metadata": {
    "scrolled": true
   },
   "outputs": [
    {
     "data": {
      "text/plain": [
       "(-1/2*sqrt(5) + 1/2, 1/2*sqrt(5) + 1/2, 0)"
      ]
     },
     "execution_count": 132,
     "metadata": {},
     "output_type": "execute_result"
    }
   ],
   "source": [
    "a1^1,a2^1,a3^1"
   ]
  },
  {
   "cell_type": "code",
   "execution_count": 146,
   "metadata": {},
   "outputs": [
    {
     "data": {
      "text/plain": [
       "True"
      ]
     },
     "execution_count": 146,
     "metadata": {},
     "output_type": "execute_result"
    }
   ],
   "source": [
    "var('c1 c2')\n",
    "fi(n)=c1*(a1^n)+c2*(a2^n)\n",
    "\n",
    "bool(fi(n+2)==fi(n+1)+fi(n))"
   ]
  },
  {
   "cell_type": "code",
   "execution_count": 154,
   "metadata": {},
   "outputs": [
    {
     "data": {
      "text/plain": [
       "(-1/5*sqrt(5), 1/5*sqrt(5))"
      ]
     },
     "execution_count": 154,
     "metadata": {},
     "output_type": "execute_result"
    }
   ],
   "source": [
    "solFAlpha=solve((fi(0)==0,fi(1)==1),c1,c2)\n",
    "co1=solFAlpha[0][0].rhs()\n",
    "co2=solFAlpha[0][1].rhs()\n",
    "\n",
    "co1,co2"
   ]
  },
  {
   "cell_type": "markdown",
   "metadata": {
    "deletable": false,
    "editable": false,
    "run_control": {
     "frozen": true
    }
   },
   "source": [
    "### Question\n",
    "1. D'après les résultats précédents, définir une fonction $G$ telle que $G(n) = F_n$ pour tout $n\\ge 0$.\n",
    "2. Vérifier que la fonction trouvée est correcte, pour tout $0\\leq n < 100$.\n",
    "2. Définir la liste des valeurs $F(n)/G(n)$ pour $n = 1$ à $100$, où $F$ est la fonction numérique définie à la question **1.6.**. Utiliser la fonction `list_plot` pour afficher les points et valider que la fonction $F$ était à peu près correcte."
   ]
  },
  {
   "cell_type": "code",
   "execution_count": 158,
   "metadata": {},
   "outputs": [
    {
     "data": {
      "text/plain": [
       "n |--> 1/5*sqrt(5)*(1/2*sqrt(5) + 1/2)^n - 1/5*sqrt(5)*(-1/2*sqrt(5) + 1/2)^n"
      ]
     },
     "execution_count": 158,
     "metadata": {},
     "output_type": "execute_result"
    }
   ],
   "source": [
    "G(n)=co1*(a1^n)+co2*(a2^n)\n",
    "G"
   ]
  },
  {
   "cell_type": "code",
   "execution_count": 159,
   "metadata": {},
   "outputs": [
    {
     "data": {
      "text/plain": [
       "True"
      ]
     },
     "execution_count": 159,
     "metadata": {},
     "output_type": "execute_result"
    }
   ],
   "source": [
    "all([G(i)==fiboIter(i) for i in range(100)])"
   ]
  },
  {
   "cell_type": "code",
   "execution_count": 160,
   "metadata": {
    "scrolled": true
   },
   "outputs": [
    {
     "data": {
      "image/png": "[encoded data removed]",
      "text/plain": [
       "Graphics object consisting of 1 graphics primitive"
      ]
     },
     "execution_count": 160,
     "metadata": {},
     "output_type": "execute_result"
    }
   ],
   "source": [
    "list_plot([F(i)/G(i) for i in range(1,100)])"
   ]
  },
  {
   "cell_type": "markdown",
   "metadata": {
    "deletable": false,
    "editable": false,
    "run_control": {
     "frozen": true
    }
   },
   "source": [
    "## Suites récurrentes linéaires à coefficients constants\n",
    "\n",
    "Dans cette partie, on essaie de répéter les mêmes étapes que celles effectuées pour la suite de Fibonacci, mais avec une suite récurrente linéaire quelconque. De manière générale, une telle suite $(u_n)_{n\\ge 0}$ est définie par $k$ valeurs $u_0$, ..., $u_{k-1}$ et une récurrence d'*ordre $k$* de la forme\n",
    "$$u_{n+k} = a_0u_{n}+a_1u_{n+1}+\\dotsb +a_{k-1}u_{n+k-1}$$\n",
    "pour $n\\ge 0$. Ainsi la suite récurrente $(u_n)$ d'*ordre $k$* est définie par \n",
    "- les $k$ *conditions initiales* $u_0=val_0$, ..., $u_{k-1}=val_{k-1}$;\n",
    "- les $k$ coefficients de l'*équation de récurrence* $a_0$, ..., $a_{k-1}$.\n"
   ]
  },
  {
   "cell_type": "markdown",
   "metadata": {
    "deletable": false,
    "editable": false,
    "run_control": {
     "frozen": true
    }
   },
   "source": [
    "### Question\n",
    "Identifier l'ordre $k$, les conditions initiales et les coefficients de l'équation de récurrence, dans le cas de la suite de Fibonacci."
   ]
  },
  {
   "cell_type": "markdown",
   "metadata": {
    "tags": [
     "corrige"
    ]
   },
   "source": [
    "k=2, \n",
    "\n",
    "u0=0,u1=1,\n",
    "\n",
    "a0=1 et a1=1"
   ]
  },
  {
   "cell_type": "markdown",
   "metadata": {
    "deletable": false,
    "editable": false,
    "run_control": {
     "frozen": true
    }
   },
   "source": [
    "### Question\n",
    "1. Écrire une fonction `suivant`, qui prend en entrée une liste de $k$ termes $u_n$, ..., $u_{n+k-1}$ et la liste des $k$ coefficients $a_0$, ..., $a_{k-1}$, et renvoie le terme $u_{n+k}$. *Vous devez vérifier que les deux listes sont de même taille.*\n",
    "2. En déduire une fonction `liste_termes` qui prend en entrée des conditions initiales et les coefficients de l'équation de récurrence d'une suite $(u_n)$, ainsi qu'un entier $N$, et renvoie la liste $[u_0, ..., u_N]$.\n",
    "3. Vérifier votre fonction en l'appliquant à la suite de Fibonacci et comparant au résultat renvoyé par `liste_fibonacci`."
   ]
  },
  {
   "cell_type": "code",
   "execution_count": 163,
   "metadata": {},
   "outputs": [],
   "source": [
    "def suivant(T,C):\n",
    "    assert len(T)==len(C)\n",
    "    return sum([T[i]*C[i] for i in range(len(T))])\n"
   ]
  },
  {
   "cell_type": "code",
   "execution_count": 167,
   "metadata": {},
   "outputs": [],
   "source": [
    "def liste_termes(con_init,coeff,N):\n",
    "    result = con_init\n",
    "    while len(result)<N:\n",
    "        result.append(suivant(result[-len(coeff):],coeff))\n",
    "    return result[:N]\n",
    "\n"
   ]
  },
  {
   "cell_type": "code",
   "execution_count": 170,
   "metadata": {},
   "outputs": [
    {
     "data": {
      "text/plain": [
       "True"
      ]
     },
     "execution_count": 170,
     "metadata": {},
     "output_type": "execute_result"
    }
   ],
   "source": [
    "L=liste_termes([0,1],[1,1],100)==liste_fibonacci(100)\n",
    "L"
   ]
  },
  {
   "cell_type": "markdown",
   "metadata": {
    "deletable": false,
    "editable": false,
    "run_control": {
     "frozen": true
    }
   },
   "source": [
    "### Question\n",
    "Soit $(u_n)$ définie par $u_{n+5} = 3u_{n+2} + u_n$, avec $u_0 = u_1 = u_2 = u_3 = u_4 = 1$.\n",
    "1. Calculer les 100 premiers termes de la suite $(u_n)$. Les 20 premiers doivents être:\n",
    "\n",
    "`[1, 1, 1, 1, 1, 4, 4, 4, 13, 13, 16, 43, 43, 61, 142, 145, 226, 469, 496, 820]`\n",
    "\n",
    "1. Représenter graphiquement ces points ainsi que leur logarithme en base 2.\n",
    "1. Déterminer numériquement, comme on l'a fait pour la suite de Fibonacci, deux constantes $c$ et $\\alpha$ telles que $u_n$ soit environ égal à $c \\alpha^n$. *Utiliser le graphique, puis `find_fit`*. \n",
    "1. Superposer le tracé de la fonction $f(n) = c\\alpha^n$ avec les points calculés, pour vérifier que le résultat est  peu près correct."
   ]
  },
  {
   "cell_type": "code",
   "execution_count": 188,
   "metadata": {},
   "outputs": [
    {
     "data": {
      "text/plain": [
       "[1, 1, 1, 1, 1, 4, 4, 4, 13, 13, 16, 43, 43, 61, 142, 145, 226, 469, 496, 820]"
      ]
     },
     "execution_count": 188,
     "metadata": {},
     "output_type": "execute_result"
    }
   ],
   "source": [
    "Li=liste_termes([1,1,1,1,1],[1,0,3,0,0],20)\n",
    "Li"
   ]
  },
  {
   "cell_type": "code",
   "execution_count": 189,
   "metadata": {},
   "outputs": [
    {
     "data": {
      "image/png": "[encoded data removed]",
      "text/plain": [
       "Graphics object consisting of 1 graphics primitive"
      ]
     },
     "execution_count": 189,
     "metadata": {},
     "output_type": "execute_result"
    }
   ],
   "source": [
    "list_plot(Li)"
   ]
  },
  {
   "cell_type": "code",
   "execution_count": 190,
   "metadata": {},
   "outputs": [
    {
     "data": {
      "image/png": "[encoded data removed]",
      "text/plain": [
       "Graphics object consisting of 1 graphics primitive"
      ]
     },
     "execution_count": 190,
     "metadata": {},
     "output_type": "execute_result"
    }
   ],
   "source": [
    "list_plot([log(elem,2) for elem in Li],color='red')"
   ]
  },
  {
   "cell_type": "code",
   "execution_count": 199,
   "metadata": {},
   "outputs": [
    {
     "data": {
      "text/plain": [
       "(0.5939766842414257, -1.5150162171990267)"
      ]
     },
     "execution_count": 199,
     "metadata": {},
     "output_type": "execute_result"
    }
   ],
   "source": [
    "var('a b')\n",
    "\n",
    "f(x)=a*x+b\n",
    "\n",
    "Li=liste_termes([1,1,1,1,1],[1,0,3,0,0],1000)\n",
    "a,b=find_fit([(i,log(Li[i],2)) for i in range(1000)],f)\n",
    "\n",
    "a2=a.rhs()\n",
    "b2=b.rhs()\n",
    "\n",
    "F(x)=2**(a2*x+b2)\n",
    "\n",
    "a2,b2\n"
   ]
  },
  {
   "cell_type": "code",
   "execution_count": 208,
   "metadata": {},
   "outputs": [],
   "source": [
    "var('c alpha')\n",
    "c=2^b2\n",
    "alpha=2^a2\n",
    "F(x)=c*alpha^x"
   ]
  },
  {
   "cell_type": "code",
   "execution_count": 209,
   "metadata": {},
   "outputs": [
    {
     "data": {
      "image/png": "[encoded data removed]",
      "text/plain": [
       "Graphics object consisting of 2 graphics primitives"
      ]
     },
     "execution_count": 209,
     "metadata": {},
     "output_type": "execute_result"
    }
   ],
   "source": [
    "plot(F,1,50,color='red') +\\\n",
    "list_plot(liste_termes([1,1,1,1,1],[1,0,3,0,0],50))"
   ]
  },
  {
   "cell_type": "code",
   "execution_count": 210,
   "metadata": {},
   "outputs": [
    {
     "data": {
      "text/plain": [
       "(0.34989253326769276, 1.509401574503746)"
      ]
     },
     "execution_count": 210,
     "metadata": {},
     "output_type": "execute_result"
    }
   ],
   "source": [
    "c,alpha"
   ]
  },
  {
   "cell_type": "markdown",
   "metadata": {
    "deletable": false,
    "editable": false,
    "run_control": {
     "frozen": true
    }
   },
   "source": [
    "## Calcul exact de suites récurrentes linéaires à coefficients constants\n",
    "Mathématiquement, on sait résoudre complètement les suites récurrentes à coefficients constants. Si $(u_n)$ vérifie $u_{n+k} = a_0u_{n}+a_1u_{n+1}+\\dotsb +a_{k-1}u_{n+k-1}$, on définit le *polynôme caractéristique* de $(u_n)$ par $P_u(X) = X^k - (a_{k-1} X^{k-1} + a_{k-2} X^{k-2} + \\dotsb a_1 X + a_0)$. Les racines de ce polynôme $P_u(X)$ permettent de trouver le terme général de la suite, vous verrez comment un peu plus loin."
   ]
  },
  {
   "cell_type": "markdown",
   "metadata": {
    "deletable": false,
    "editable": false,
    "run_control": {
     "frozen": true
    }
   },
   "source": [
    "### Question\n",
    "1. Définir l'anneau des polynômes en une variable à coefficients rationnels, avec la commande `R.<X> = QQ[]`.\n",
    "1. Écrire une fonction `poly_car` qui, étant donné les coefficients $a_0$, …, $a_{k-1}$ d'une suite récurrente linéaire, renvoie le polynôme caractéristique de cette suite. Le polynôme aura des coefficients rationnels\n",
    "1. Calculer le polynôme caractéristique $P_F$ de la suite de Fibonacci. Calculer ses racines. *Remarque : le polynôme n'a pas de racines rationnelles, il faut donc calculer ses racines dans un ensemble plus grand avec `P_F.roots(...)`, où les `...` doivent être remplacés par le bon ensemble.*\n",
    "1. Calculer de même le polynôme caractéristique de la suite de la question précédente ($u_{n+5} = 3u_{n+2}+u_n$) ainsi que ses racines (de manière approchée). Quelle valeur calculée précédemment retrouvez-vous approximativement ?"
   ]
  },
  {
   "cell_type": "code",
   "execution_count": 223,
   "metadata": {},
   "outputs": [],
   "source": [
    "R.<X>=QQ[]"
   ]
  },
  {
   "cell_type": "code",
   "execution_count": 224,
   "metadata": {},
   "outputs": [],
   "source": [
    "def poly_car(coefs):\n",
    "    k=len(coefs)\n",
    "    return X^k - (sum([X^i*coefs[i] for i in range(k)]))\n"
   ]
  },
  {
   "cell_type": "code",
   "execution_count": 226,
   "metadata": {},
   "outputs": [
    {
     "data": {
      "text/plain": [
       "([(-0.618033988749895, 1), (1.61803398874989, 1)], X^2 - X - 1)"
      ]
     },
     "execution_count": 226,
     "metadata": {},
     "output_type": "execute_result"
    }
   ],
   "source": [
    "P_f=poly_car([1,1])\n",
    "\n",
    "P_f.roots(RR),P_f"
   ]
  },
  {
   "cell_type": "code",
   "execution_count": 230,
   "metadata": {},
   "outputs": [
    {
     "data": {
      "text/html": [
       "<html><script type=\"math/tex; mode=display\">\\newcommand{\\Bold}[1]{\\mathbf{#1}}\\verb|ON|\\verb| |\\verb|RETROUVE|\\verb| |\\verb|ALPHAAAAAAAAAAAAAAAAAAAAAAAAAAAAAAAAAAAA|</script></html>"
      ],
      "text/latex": [
       "$$\\newcommand{\\Bold}[1]{\\mathbf{#1}}\\verb|ON|\\verb| |\\verb|RETROUVE|\\verb| |\\verb|ALPHAAAAAAAAAAAAAAAAAAAAAAAAAAAAAAAAAAAA|$$"
      ],
      "text/plain": [
       "'ON RETROUVE ALPHAAAAAAAAAAAAAAAAAAAAAAAAAAAAAAAAAAAA'"
      ]
     },
     "metadata": {},
     "output_type": "display_data"
    },
    {
     "data": {
      "text/plain": [
       "[(1.50941045653627, 1),\n",
       " (-0.772719230787847 - 1.18582984362829*I, 1),\n",
       " (-0.772719230787847 + 1.18582984362829*I, 1),\n",
       " (0.0180140025197116 - 0.574793057566951*I, 1),\n",
       " (0.0180140025197116 + 0.574793057566951*I, 1)]"
      ]
     },
     "execution_count": 230,
     "metadata": {},
     "output_type": "execute_result"
    }
   ],
   "source": [
    "P_u=poly_car([1,0,3,0,0])\n",
    "\n",
    "show(\"ON RETROUVE ALPHAAAAAAAAAAAAAAAAAAAAAAAAAAAAAAAAAAAA\")\n",
    "P_u.roots(CC)"
   ]
  },
  {
   "cell_type": "markdown",
   "metadata": {
    "deletable": false,
    "editable": false,
    "run_control": {
     "frozen": true
    }
   },
   "source": [
    "### Question\n",
    "La théorie des suites récurrentes linéaires à coefficients constants fournit la valeur de $u_n$ en fonction des racines de son polynôme caractéristique $P$. Si le polynôme possède $k$ racines distintes $r_1$, …, $r_k$, alors $u_n = c_1 r_1^n + c_2 r_2^n + \\dotsb + c_kr_k^n$. On dit que $c_1 r_1^n + c_2 r_2^n + \\dotsb + c_kr_k^n$ est le terme général de la suite car on ne connait que les valeurs des $r_i$.\n",
    "Les coefficients $c_i$ devront être déterminés à partir des valeurs initiales de la suite, $u_0$ à $u_{k-1}$.\n",
    "\n",
    "1. Écrire une fonction `terme_general` qui prend en entrée les coefficients $a_0$, …, $a_{k-1}$ d'une suite récurrente linéaire, et renvoie le terme général de la suite *si toutes les racines de son polynôme caractéristique sont distinctes* (c'est-à-dire de multiplicité $1$). Si le polynôme caractéristique n'a pas que des racines simples, on soulèvera une exception avec `raise ValueError(\"le polynôme a des racines multiples\")`. Vous chercherez les racines de $P$ dans les nombres complexes.\n",
    "_**Remarque importante.** La fonction ne prend pas en entrée les valeurs initiales : elle doit donc renvoyer une expression avec des variables symboliques $c_i$. Pour en définir $k$ d'un coup (ici $4$), il faut créer une chaîne de caractère `\"c0 c1 c2 c3\"` puis appeler `c = var(\"c0 c1 c2 c3\")` : on obtient `c3` avec `c[3]` par exemple._\n",
    "1. Tester la fonction avec la suite de Fibonacci, et la suite $u_{n+5} = 3u_{n+2} + u_n$."
   ]
  },
  {
   "cell_type": "code",
   "execution_count": 302,
   "metadata": {},
   "outputs": [],
   "source": [
    "def terme_general(coefs):\n",
    "    var('n')\n",
    "    P=poly_car(coefs)\n",
    "    R=P.roots(CC)\n",
    "    k=len(R)\n",
    "    c=var(\", \".join([\"c\"+str(i) for i in range(k+1)]))\n",
    "    for racine in R:\n",
    "        if racine[1]>1:\n",
    "            raise ValueError(\"le polynôme a des racines multiples\")\n",
    "    return sum([c[i]*R[i][0]^n for i in range(k)])"
   ]
  },
  {
   "cell_type": "code",
   "execution_count": 303,
   "metadata": {},
   "outputs": [
    {
     "data": {
      "text/plain": [
       "c1*e^(0.481211825059603*n) + c0*e^(-(0.481211825059603 - 3.14159265358979*I)*n)"
      ]
     },
     "execution_count": 303,
     "metadata": {},
     "output_type": "execute_result"
    }
   ],
   "source": [
    "T_f=terme_general([1,1])\n",
    "T_f"
   ]
  },
  {
   "cell_type": "code",
   "execution_count": 304,
   "metadata": {},
   "outputs": [
    {
     "data": {
      "text/plain": [
       "c0*e^(0.411719148455786*n) + c2*e^((0.347394772487646 + 2.14831474661924*I)*n) + c1*e^((0.347394772487646 - 2.14831474661924*I)*n) + c4*e^(-(0.553254346715540 - 1.53946660211288*I)*n) + c3*e^(-(0.553254346715540 + 1.53946660211288*I)*n)"
      ]
     },
     "execution_count": 304,
     "metadata": {},
     "output_type": "execute_result"
    }
   ],
   "source": [
    "T_u=terme_general([1,0,3,0,0])\n",
    "T_u"
   ]
  },
  {
   "cell_type": "code",
   "execution_count": null,
   "metadata": {},
   "outputs": [],
   "source": []
  },
  {
   "cell_type": "code",
   "execution_count": null,
   "metadata": {},
   "outputs": [],
   "source": []
  },
  {
   "cell_type": "code",
   "execution_count": null,
   "metadata": {},
   "outputs": [],
   "source": []
  },
  {
   "cell_type": "markdown",
   "metadata": {
    "deletable": false,
    "editable": false,
    "run_control": {
     "frozen": true
    }
   },
   "source": [
    "### Question\n",
    "Afin d'obtenir la valeur finale de $u_n$, il faut prendre en compte les conditions initiales $u_0$, …, $u_{k-1}$. Pour cela, si on a trouvé une fonction $U(n)$ avec des variables symboliques $c_i$, il faut résoudre $U(i) = u_i$ pour $i =0$ à $k-1$ pour trouver les valeurs des $c_i$.\n",
    "1. À la main, résoudre les équations pour la suite de Fibonacci, et trouver l'expression de $F_n$. L'évaluer sur $n=0$ à $10$ pour vérifier que c'est correct.\n",
    "1. Écrire une fonction `conditions_initiales` qui prend en entrée l'expression renvoyée par `terme_general` et la liste $[u_0, \\dots, u_{k-1}]$ des conditions initiales, et renvoie l'expression modifiée en remplaçant les $c_i$ par leurs valeurs. *On peut obtenir la liste des variables d'une expression avec `expr.variables()`.*\n",
    "1. Appliquer la fonction sur le terme général de Fibonacci et de la suite $u_{n+5} = 3u_{n+2} + u_n$ avec $u_k = 1$ pour $k < 5$.\n",
    "1. Vérifiez qu'on retrouve bien (environ) les bonnes valeurs des suites. Comment expliquer que les valeurs ne soient pas tout à fait correctes ?"
   ]
  },
  {
   "cell_type": "code",
   "execution_count": 310,
   "metadata": {
    "scrolled": true
   },
   "outputs": [
    {
     "data": {
      "text/plain": [
       "(-36840435380612776841822833195214880185376/2433725244196035086620398863673499398612790050535213415405*I - 1088395016915921390184049407990748609108526752940971250352/2433725244196035086620398863673499398612790050535213415405,\n",
       " 36840435380612776841822833195214880185376/2433725244196035086620398863673499398612790050535213415405*I + 1088395016915921390184049407990748609108526752940971250352/2433725244196035086620398863673499398612790050535213415405)"
      ]
     },
     "execution_count": 310,
     "metadata": {},
     "output_type": "execute_result"
    }
   ],
   "source": [
    "C0,C1= map(lambda x: x.rhs(),solve((T_f.subs(n=0)==0,T_f.subs(n=1)==1),(c0,c1))[0])\n",
    "C0,C1"
   ]
  },
  {
   "cell_type": "code",
   "execution_count": 315,
   "metadata": {},
   "outputs": [
    {
     "data": {
      "image/png": "[encoded data removed]",
      "text/plain": [
       "Graphics object consisting of 2 graphics primitives"
      ]
     },
     "execution_count": 315,
     "metadata": {},
     "output_type": "execute_result"
    }
   ],
   "source": [
    "list_plot([abs(T_f.subs({c0:C0,c1:C1,n:i})) for i in range(10)],size=20) +\\\n",
    "list_plot(liste_fibonacci(10),color='red')"
   ]
  },
  {
   "cell_type": "code",
   "execution_count": 319,
   "metadata": {},
   "outputs": [],
   "source": [
    "def conditions_initiales(T,cond_init):\n",
    "    va=T.variables()\n",
    "    assert(len(va)-1==len(cond_init))\n",
    "    env={}\n",
    "    for i in range(len(va)-1):\n",
    "        env[va[i]]=cond_init[i]\n",
    "    return T.subs(env)\n",
    "    "
   ]
  },
  {
   "cell_type": "code",
   "execution_count": 321,
   "metadata": {},
   "outputs": [
    {
     "data": {
      "text/plain": [
       "e^(0.481211825059603*n)"
      ]
     },
     "execution_count": 321,
     "metadata": {},
     "output_type": "execute_result"
    }
   ],
   "source": [
    "cond=conditions_initiales(T_f,[0,1])\n",
    "cond"
   ]
  },
  {
   "cell_type": "code",
   "execution_count": 325,
   "metadata": {},
   "outputs": [
    {
     "data": {
      "image/png": "[encoded data removed]",
      "text/plain": [
       "Graphics object consisting of 2 graphics primitives"
      ]
     },
     "execution_count": 325,
     "metadata": {},
     "output_type": "execute_result"
    }
   ],
   "source": [
    "list_plot([cond.subs(n=i) for i in range(5)]) +\\\n",
    "list_plot(liste_fibonacci(5),color='red')"
   ]
  },
  {
   "cell_type": "code",
   "execution_count": null,
   "metadata": {},
   "outputs": [],
   "source": []
  },
  {
   "cell_type": "code",
   "execution_count": null,
   "metadata": {},
   "outputs": [],
   "source": []
  },
  {
   "cell_type": "code",
   "execution_count": null,
   "metadata": {},
   "outputs": [],
   "source": []
  },
  {
   "cell_type": "code",
   "execution_count": null,
   "metadata": {},
   "outputs": [],
   "source": []
  },
  {
   "cell_type": "code",
   "execution_count": null,
   "metadata": {
    "scrolled": true
   },
   "outputs": [],
   "source": []
  },
  {
   "cell_type": "code",
   "execution_count": null,
   "metadata": {},
   "outputs": [],
   "source": []
  },
  {
   "cell_type": "markdown",
   "metadata": {
    "deletable": false,
    "editable": false,
    "run_control": {
     "frozen": true
    }
   },
   "source": [
    "### Question\n",
    "Quand les racines du polynôme caractéristique d'une suite ne sont pas toutes distinctes, l'expression de $u_n$ est un peu différente. En supposant que le polynôme caractéristique $P$ de la suite $(u_n)$ admette $t$ racines $r_1$, …, $r_t$ de multiplicités $m_1$, …, $m_t$, alors $u_n = p_1(n) r_1^n + p_2(n) r_2^n + … + p_t(n) r_t^n$ où $p_i(n)$ est un polynôme de degré $< m_i$. Donc $p_i(n)$ peut s'écrire $c_0 + c_1 x + c_2 x^2 + \\dotsb + c_{m_i-1} x^{m_i-1}$.\n",
    "\n",
    "1. Reprendre la fonction `terme_général` pour qu'elle fonctionne avec des polynômes à racines multiples. *Remarque : le nombre de variables symboliques nécessaires reste toujours le même, à savoir $k$.*\n",
    "1. Vérifier qu'elle fonctionne toujours pour les deux suites étudiées.\n",
    "1. Tester la fonction avec la suite $(v_n)$ définie par $v_{n+2} = 2v_{n+1}-v_n$."
   ]
  },
  {
   "cell_type": "code",
   "execution_count": null,
   "metadata": {},
   "outputs": [],
   "source": []
  },
  {
   "cell_type": "code",
   "execution_count": null,
   "metadata": {},
   "outputs": [],
   "source": []
  },
  {
   "cell_type": "code",
   "execution_count": null,
   "metadata": {},
   "outputs": [],
   "source": []
  },
  {
   "cell_type": "code",
   "execution_count": null,
   "metadata": {},
   "outputs": [],
   "source": []
  },
  {
   "cell_type": "code",
   "execution_count": null,
   "metadata": {},
   "outputs": [],
   "source": []
  },
  {
   "cell_type": "markdown",
   "metadata": {
    "deletable": false,
    "editable": false,
    "run_control": {
     "frozen": true
    }
   },
   "source": [
    "### Question\n",
    "1. En adaptant si besoin la fonction `conditions_initiales` pour qu'elle fonctionne quand les polynômes caractéristiques ont des racines multiples, écrire une fonction `resolution` qui prend en entrée les coefficients $a_0$, …, $a_k$ d'une suite récurrente linéaire et les conditions initiales $u_0$, …, $u_{k-1}$, et renvoie l'expression de $u_n$ en fonction de $n$.\n",
    "\n",
    "1. Appliquer la fonction `resolution` dans les cas suivants, et vérifier à chaque fois si l'expression produit bien les bonnes valeurs de la suite :\n",
    "    - suite de Fibonacci ;\n",
    "    - suite $u_{n+5} = 3u_{n+2} + u_n$ avec $u_k = 1$ pour $k < 4$ ;\n",
    "    - suite $v_{n+2} = 2v_{n+1}-v_n$ avec $v_0 = 1$ et $v_1 = -1$ ;\n",
    "    - suite $w_{n+3} = 3w_{n+1}+2w_n$ avec $w_k = k$ pour $k < 3$."
   ]
  },
  {
   "cell_type": "code",
   "execution_count": null,
   "metadata": {},
   "outputs": [],
   "source": []
  },
  {
   "cell_type": "code",
   "execution_count": null,
   "metadata": {},
   "outputs": [],
   "source": []
  },
  {
   "cell_type": "code",
   "execution_count": null,
   "metadata": {},
   "outputs": [],
   "source": []
  },
  {
   "cell_type": "code",
   "execution_count": null,
   "metadata": {},
   "outputs": [],
   "source": []
  },
  {
   "cell_type": "code",
   "execution_count": null,
   "metadata": {},
   "outputs": [],
   "source": []
  },
  {
   "cell_type": "markdown",
   "metadata": {
    "deletable": false,
    "editable": false,
    "run_control": {
     "frozen": true
    }
   },
   "source": [
    "## Calcul rapide de suites récurrentes linéaires\n",
    "\n",
    "On a trouvé dans la partie **1.** la valeur maximale de $n$ pour laquelle on arrive à calculer le $n$^ème^ terme de la suite de Fibonacci. L'objectif de cette partie est d'accélérer ces calculs."
   ]
  },
  {
   "cell_type": "markdown",
   "metadata": {
    "deletable": false,
    "editable": false,
    "run_control": {
     "frozen": true
    }
   },
   "source": [
    "### Question\n",
    "Pour accélérer les calculs (pour une suite récurrente quelconque), on remarque que l'équation $u_{n+k} = a_0u_n+\\dotsb+a_{k-1}u_{n+k-1}$ s'écrit de la manière matricielle suivante :\n",
    "$$\\begin{pmatrix} u_{n+1}\\\\u_{n+2}\\\\\\vdots\\\\u_{n+k-1}\\\\u_{n+k}\\end{pmatrix} \n",
    " = \\begin{pmatrix}\n",
    "     0 & 1 & 0 & \\dots & 0 \\\\\n",
    "     0 & 0 & 1 & \\dots & 0 \\\\\n",
    "       &   &   & \\ddots\\\\\n",
    "     0 & 0 & 0 & \\dots & 1 \\\\\n",
    "     a_0 & a_1 & a_2 & \\dots & a_{k-1}\n",
    "   \\end{pmatrix}\n",
    " \\begin{pmatrix} u_{n}\\\\u_{n+1}\\\\\\vdots\\\\u_{n+k-2}\\\\u_{n+k-1}\\end{pmatrix} $$\n",
    " \n",
    " 1. Écrire une fonction `matrice` qui prend en entrée les coefficients d'une équation de récurrence et renvoie la matrice correspondante. *La construction `matrix(n,n)` construit une matrice de dimensions $n\\times n$ remplie de $0$.*\n",
    " 1. Utiliser la matrice pour calculer les 10 premiers termes de la suite de Fibonacci, et vérifier qu'on obtient bien le bon résultat. *Il faut faire un produit matrice-vecteur : pour cela, il faut transformer une liste de conditions initiales `U` en un vecteur avec `vector(U)`.*\n",
    " 2. Quelle matrice doit-on appliquer au vecteur pour passer directement de $[u_0,\\dots,u_{k-1}]$ à $[u_k,\\dots,u_{2k-1}]$ ? Vérifier sur l'exemple de Fibonacci, et sur la suite $v_{n+5} = 3v_{n+2}+v_n$ avec $v_k = 1$ pour $k < 5$."
   ]
  },
  {
   "cell_type": "code",
   "execution_count": null,
   "metadata": {},
   "outputs": [],
   "source": []
  },
  {
   "cell_type": "code",
   "execution_count": null,
   "metadata": {},
   "outputs": [],
   "source": []
  },
  {
   "cell_type": "code",
   "execution_count": null,
   "metadata": {},
   "outputs": [],
   "source": []
  },
  {
   "cell_type": "markdown",
   "metadata": {
    "deletable": false,
    "editable": false,
    "run_control": {
     "frozen": true
    }
   },
   "source": [
    "### Question\n",
    "De manière générale, si on note $M$ la matrice associée à une récurrence $u_{n+k} = a_0u_n+\\dotsb+a_{k-1}u_{n+k-1}$, et $\\vec u_{[n,n+k[}$ le vecteur $(u_n,\\dotsc,u_{n+k-1})$, on a l'égalité $\\vec u_{[n+t,n+t+k[} = M^t \\vec u_{[n,n+k[}$.\n",
    "1. Utiliser la puissance de matrices proposée dans SageMath pour calculer $(F_{10000},F_{10001})$ où $F_k$ est le $k$-ème nombre de Fibonacci. *Comparer le temps de calcul avec votre fonction `fibonacci` à l'aide de la « commande magique » `%time`.*\n",
    "2. Si on suppose qu'on ne dispose pas de puissance de matrice, mais simplement du produit de matrices, quel algorithme peut-on utiliser pour faire le calcul rapidement ? *Coder l'algorithme et comparer le temps de calcul avec la question précédente.*"
   ]
  },
  {
   "cell_type": "code",
   "execution_count": null,
   "metadata": {},
   "outputs": [],
   "source": []
  },
  {
   "cell_type": "code",
   "execution_count": null,
   "metadata": {},
   "outputs": [],
   "source": []
  }
 ],
 "metadata": {
  "celltoolbar": "Aucun(e)",
  "kernelspec": {
   "display_name": "SageMath 9.3",
   "language": "sage",
   "name": "sagemath"
  },
  "language_info": {
   "codemirror_mode": {
    "name": "ipython",
    "version": 3
   },
   "file_extension": ".py",
   "mimetype": "text/x-python",
   "name": "python",
   "nbconvert_exporter": "python",
   "pygments_lexer": "ipython3",
   "version": "3.7.10"
  },
  "toc": {
   "base_numbering": 1,
   "nav_menu": {},
   "number_sections": true,
   "sideBar": true,
   "skip_h1_title": true,
   "title_cell": "Table of Contents",
   "title_sidebar": "Contents",
   "toc_cell": false,
   "toc_position": {
    "height": "904.867px",
    "left": "0px",
    "right": "20px",
    "top": "111.133px",
    "width": "265px"
   },
   "toc_section_display": "block",
   "toc_window_display": true
  },
  "varInspector": {
   "cols": {
    "lenName": 16,
    "lenType": 16,
    "lenVar": 40
   },
   "kernels_config": {
    "python": {
     "delete_cmd_postfix": "",
     "delete_cmd_prefix": "del ",
     "library": "var_list.py",
     "varRefreshCmd": "print(var_dic_list())"
    },
    "r": {
     "delete_cmd_postfix": ") ",
     "delete_cmd_prefix": "rm(",
     "library": "var_list.r",
     "varRefreshCmd": "cat(var_dic_list()) "
    }
   },
   "types_to_exclude": [
    "module",
    "function",
    "builtin_function_or_method",
    "instance",
    "_Feature"
   ],
   "window_display": false
  }
 },
 "nbformat": 4,
 "nbformat_minor": 4
}
